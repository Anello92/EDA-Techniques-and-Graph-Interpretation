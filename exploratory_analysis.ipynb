{
  "cells": [
    {
      "cell_type": "markdown",
      "metadata": {
        "id": "0v-ThvreGIyJ"
      },
      "source": [
        "# **<font color='blue'>panData</font>**\n",
        "# **<font color='blue'>Data Analysis Projects with Python</font>**\n",
        "### **<font color='blue'> Exploratory Analysis Techniques and Interpretation of Statistical Graphs</font>**\n"
      ]
    },
    {
      "cell_type": "markdown",
      "metadata": {
        "id": "wRoHuQ4bGIyK"
      },
      "source": [
        "## **Python Packages Used in the Project**\n"
      ]
    },
    {
      "cell_type": "code",
      "execution_count": 2,
      "metadata": {
        "colab": {
          "base_uri": "https://localhost:8080/"
        },
        "id": "h6QulbANGIyL",
        "outputId": "ae906bf8-7755-4c07-b4be-6518238eeb85"
      },
      "outputs": [
        {
          "output_type": "stream",
          "name": "stdout",
          "text": [
            "\u001b[2K   \u001b[90m━━━━━━━━━━━━━━━━━━━━━━━━━━━━━━━━━━━━━━━━\u001b[0m \u001b[32m1.6/1.6 MB\u001b[0m \u001b[31m13.7 MB/s\u001b[0m eta \u001b[36m0:00:00\u001b[0m\n",
            "\u001b[?25h"
          ]
        }
      ],
      "source": [
        "!pip install -q -U watermark"
      ]
    },
    {
      "cell_type": "code",
      "execution_count": 3,
      "metadata": {
        "id": "LnoFbR3fGIyL"
      },
      "outputs": [],
      "source": [
        "# 1. Importing Required Libraries\n",
        "import pandas as pd\n",
        "import numpy as np\n",
        "import matplotlib.pyplot as plt\n",
        "import seaborn as sns\n",
        "import warnings\n",
        "warnings.filterwarnings(\"ignore\")\n"
      ]
    },
    {
      "cell_type": "code",
      "execution_count": 4,
      "metadata": {
        "colab": {
          "base_uri": "https://localhost:8080/"
        },
        "id": "B5UqoEvhGIyM",
        "outputId": "ef591420-9ec7-494b-a26f-d825c9d02b38"
      },
      "outputs": [
        {
          "output_type": "stream",
          "name": "stdout",
          "text": [
            "Author: panData\n",
            "\n"
          ]
        }
      ],
      "source": [
        "# 2. Reloading Extensions and Adding Author Information\n",
        "%reload_ext watermark\n",
        "%watermark -a \"panData\"\n"
      ]
    },
    {
      "cell_type": "markdown",
      "metadata": {
        "id": "_r8f67qjGIyM"
      },
      "source": [
        "## **Loading the Data**\n"
      ]
    },
    {
      "cell_type": "code",
      "execution_count": 5,
      "metadata": {
        "id": "UieX6HBVGIyN"
      },
      "outputs": [],
      "source": [
        "# 3. Load dataset\n",
        "df = pd.read_csv(\"dataset.csv\")"
      ]
    },
    {
      "cell_type": "code",
      "execution_count": 6,
      "metadata": {
        "colab": {
          "base_uri": "https://localhost:8080/"
        },
        "id": "2TpezvHJGIyN",
        "outputId": "7a3b5f00-d82d-452a-a3a0-286e6f7d0c1d"
      },
      "outputs": [
        {
          "output_type": "execute_result",
          "data": {
            "text/plain": [
              "(1200, 11)"
            ]
          },
          "metadata": {},
          "execution_count": 6
        }
      ],
      "source": [
        "# 4. Dataset shape\n",
        "df.shape"
      ]
    },
    {
      "cell_type": "code",
      "execution_count": 7,
      "metadata": {
        "colab": {
          "base_uri": "https://localhost:8080/",
          "height": 258
        },
        "id": "_ij_EoH2GIyO",
        "outputId": "549db58f-9c95-478f-8764-f57526b888c1"
      },
      "outputs": [
        {
          "output_type": "execute_result",
          "data": {
            "text/plain": [
              "   id release_date debit_account credit_account   amount  document  \\\n",
              "0   1   2022-02-27        DWAVRL         CIOVQ6  5533.25  DOCPAXGQ   \n",
              "1   2   2022-05-11        D8TF53         CV9Y0V  7180.37  DOCBXZXG   \n",
              "2   3   2020-03-23        D0TZCE         CELQSH  6067.36  DOCF5ITC   \n",
              "3   4   2021-06-14        DOGLK7         CDFEMS  5494.34  DOCZRS1U   \n",
              "4   5   2022-11-13        DHL0I5         CRU97G  4294.18       NaN   \n",
              "\n",
              "  operation_nature cost_center      taxes currency  conversion_rate  \n",
              "0          OP7JDVK     CC5FYA2  444.13252      NaN         3.475606  \n",
              "1          OPXSY64     CCLH4R9  471.09236      EUR         3.523287  \n",
              "2          OPTDE9B     CCDG8CJ  326.49988      JPY         3.523287  \n",
              "3              NaN     CC98G2K  471.09236      JPY         3.523287  \n",
              "4          OP62LG1     CCZD80Y  154.26398      EUR         3.523287  "
            ],
            "text/html": [
              "\n",
              "  <div id=\"df-0d47bc40-6d05-46a1-8938-38475c706fd3\" class=\"colab-df-container\">\n",
              "    <div>\n",
              "<style scoped>\n",
              "    .dataframe tbody tr th:only-of-type {\n",
              "        vertical-align: middle;\n",
              "    }\n",
              "\n",
              "    .dataframe tbody tr th {\n",
              "        vertical-align: top;\n",
              "    }\n",
              "\n",
              "    .dataframe thead th {\n",
              "        text-align: right;\n",
              "    }\n",
              "</style>\n",
              "<table border=\"1\" class=\"dataframe\">\n",
              "  <thead>\n",
              "    <tr style=\"text-align: right;\">\n",
              "      <th></th>\n",
              "      <th>id</th>\n",
              "      <th>release_date</th>\n",
              "      <th>debit_account</th>\n",
              "      <th>credit_account</th>\n",
              "      <th>amount</th>\n",
              "      <th>document</th>\n",
              "      <th>operation_nature</th>\n",
              "      <th>cost_center</th>\n",
              "      <th>taxes</th>\n",
              "      <th>currency</th>\n",
              "      <th>conversion_rate</th>\n",
              "    </tr>\n",
              "  </thead>\n",
              "  <tbody>\n",
              "    <tr>\n",
              "      <th>0</th>\n",
              "      <td>1</td>\n",
              "      <td>2022-02-27</td>\n",
              "      <td>DWAVRL</td>\n",
              "      <td>CIOVQ6</td>\n",
              "      <td>5533.25</td>\n",
              "      <td>DOCPAXGQ</td>\n",
              "      <td>OP7JDVK</td>\n",
              "      <td>CC5FYA2</td>\n",
              "      <td>444.13252</td>\n",
              "      <td>NaN</td>\n",
              "      <td>3.475606</td>\n",
              "    </tr>\n",
              "    <tr>\n",
              "      <th>1</th>\n",
              "      <td>2</td>\n",
              "      <td>2022-05-11</td>\n",
              "      <td>D8TF53</td>\n",
              "      <td>CV9Y0V</td>\n",
              "      <td>7180.37</td>\n",
              "      <td>DOCBXZXG</td>\n",
              "      <td>OPXSY64</td>\n",
              "      <td>CCLH4R9</td>\n",
              "      <td>471.09236</td>\n",
              "      <td>EUR</td>\n",
              "      <td>3.523287</td>\n",
              "    </tr>\n",
              "    <tr>\n",
              "      <th>2</th>\n",
              "      <td>3</td>\n",
              "      <td>2020-03-23</td>\n",
              "      <td>D0TZCE</td>\n",
              "      <td>CELQSH</td>\n",
              "      <td>6067.36</td>\n",
              "      <td>DOCF5ITC</td>\n",
              "      <td>OPTDE9B</td>\n",
              "      <td>CCDG8CJ</td>\n",
              "      <td>326.49988</td>\n",
              "      <td>JPY</td>\n",
              "      <td>3.523287</td>\n",
              "    </tr>\n",
              "    <tr>\n",
              "      <th>3</th>\n",
              "      <td>4</td>\n",
              "      <td>2021-06-14</td>\n",
              "      <td>DOGLK7</td>\n",
              "      <td>CDFEMS</td>\n",
              "      <td>5494.34</td>\n",
              "      <td>DOCZRS1U</td>\n",
              "      <td>NaN</td>\n",
              "      <td>CC98G2K</td>\n",
              "      <td>471.09236</td>\n",
              "      <td>JPY</td>\n",
              "      <td>3.523287</td>\n",
              "    </tr>\n",
              "    <tr>\n",
              "      <th>4</th>\n",
              "      <td>5</td>\n",
              "      <td>2022-11-13</td>\n",
              "      <td>DHL0I5</td>\n",
              "      <td>CRU97G</td>\n",
              "      <td>4294.18</td>\n",
              "      <td>NaN</td>\n",
              "      <td>OP62LG1</td>\n",
              "      <td>CCZD80Y</td>\n",
              "      <td>154.26398</td>\n",
              "      <td>EUR</td>\n",
              "      <td>3.523287</td>\n",
              "    </tr>\n",
              "  </tbody>\n",
              "</table>\n",
              "</div>\n",
              "    <div class=\"colab-df-buttons\">\n",
              "\n",
              "  <div class=\"colab-df-container\">\n",
              "    <button class=\"colab-df-convert\" onclick=\"convertToInteractive('df-0d47bc40-6d05-46a1-8938-38475c706fd3')\"\n",
              "            title=\"Convert this dataframe to an interactive table.\"\n",
              "            style=\"display:none;\">\n",
              "\n",
              "  <svg xmlns=\"http://www.w3.org/2000/svg\" height=\"24px\" viewBox=\"0 -960 960 960\">\n",
              "    <path d=\"M120-120v-720h720v720H120Zm60-500h600v-160H180v160Zm220 220h160v-160H400v160Zm0 220h160v-160H400v160ZM180-400h160v-160H180v160Zm440 0h160v-160H620v160ZM180-180h160v-160H180v160Zm440 0h160v-160H620v160Z\"/>\n",
              "  </svg>\n",
              "    </button>\n",
              "\n",
              "  <style>\n",
              "    .colab-df-container {\n",
              "      display:flex;\n",
              "      gap: 12px;\n",
              "    }\n",
              "\n",
              "    .colab-df-convert {\n",
              "      background-color: #E8F0FE;\n",
              "      border: none;\n",
              "      border-radius: 50%;\n",
              "      cursor: pointer;\n",
              "      display: none;\n",
              "      fill: #1967D2;\n",
              "      height: 32px;\n",
              "      padding: 0 0 0 0;\n",
              "      width: 32px;\n",
              "    }\n",
              "\n",
              "    .colab-df-convert:hover {\n",
              "      background-color: #E2EBFA;\n",
              "      box-shadow: 0px 1px 2px rgba(60, 64, 67, 0.3), 0px 1px 3px 1px rgba(60, 64, 67, 0.15);\n",
              "      fill: #174EA6;\n",
              "    }\n",
              "\n",
              "    .colab-df-buttons div {\n",
              "      margin-bottom: 4px;\n",
              "    }\n",
              "\n",
              "    [theme=dark] .colab-df-convert {\n",
              "      background-color: #3B4455;\n",
              "      fill: #D2E3FC;\n",
              "    }\n",
              "\n",
              "    [theme=dark] .colab-df-convert:hover {\n",
              "      background-color: #434B5C;\n",
              "      box-shadow: 0px 1px 3px 1px rgba(0, 0, 0, 0.15);\n",
              "      filter: drop-shadow(0px 1px 2px rgba(0, 0, 0, 0.3));\n",
              "      fill: #FFFFFF;\n",
              "    }\n",
              "  </style>\n",
              "\n",
              "    <script>\n",
              "      const buttonEl =\n",
              "        document.querySelector('#df-0d47bc40-6d05-46a1-8938-38475c706fd3 button.colab-df-convert');\n",
              "      buttonEl.style.display =\n",
              "        google.colab.kernel.accessAllowed ? 'block' : 'none';\n",
              "\n",
              "      async function convertToInteractive(key) {\n",
              "        const element = document.querySelector('#df-0d47bc40-6d05-46a1-8938-38475c706fd3');\n",
              "        const dataTable =\n",
              "          await google.colab.kernel.invokeFunction('convertToInteractive',\n",
              "                                                    [key], {});\n",
              "        if (!dataTable) return;\n",
              "\n",
              "        const docLinkHtml = 'Like what you see? Visit the ' +\n",
              "          '<a target=\"_blank\" href=https://colab.research.google.com/notebooks/data_table.ipynb>data table notebook</a>'\n",
              "          + ' to learn more about interactive tables.';\n",
              "        element.innerHTML = '';\n",
              "        dataTable['output_type'] = 'display_data';\n",
              "        await google.colab.output.renderOutput(dataTable, element);\n",
              "        const docLink = document.createElement('div');\n",
              "        docLink.innerHTML = docLinkHtml;\n",
              "        element.appendChild(docLink);\n",
              "      }\n",
              "    </script>\n",
              "  </div>\n",
              "\n",
              "\n",
              "<div id=\"df-2b86e46c-a327-49ad-aa34-a7db4a24a819\">\n",
              "  <button class=\"colab-df-quickchart\" onclick=\"quickchart('df-2b86e46c-a327-49ad-aa34-a7db4a24a819')\"\n",
              "            title=\"Suggest charts\"\n",
              "            style=\"display:none;\">\n",
              "\n",
              "<svg xmlns=\"http://www.w3.org/2000/svg\" height=\"24px\"viewBox=\"0 0 24 24\"\n",
              "     width=\"24px\">\n",
              "    <g>\n",
              "        <path d=\"M19 3H5c-1.1 0-2 .9-2 2v14c0 1.1.9 2 2 2h14c1.1 0 2-.9 2-2V5c0-1.1-.9-2-2-2zM9 17H7v-7h2v7zm4 0h-2V7h2v10zm4 0h-2v-4h2v4z\"/>\n",
              "    </g>\n",
              "</svg>\n",
              "  </button>\n",
              "\n",
              "<style>\n",
              "  .colab-df-quickchart {\n",
              "      --bg-color: #E8F0FE;\n",
              "      --fill-color: #1967D2;\n",
              "      --hover-bg-color: #E2EBFA;\n",
              "      --hover-fill-color: #174EA6;\n",
              "      --disabled-fill-color: #AAA;\n",
              "      --disabled-bg-color: #DDD;\n",
              "  }\n",
              "\n",
              "  [theme=dark] .colab-df-quickchart {\n",
              "      --bg-color: #3B4455;\n",
              "      --fill-color: #D2E3FC;\n",
              "      --hover-bg-color: #434B5C;\n",
              "      --hover-fill-color: #FFFFFF;\n",
              "      --disabled-bg-color: #3B4455;\n",
              "      --disabled-fill-color: #666;\n",
              "  }\n",
              "\n",
              "  .colab-df-quickchart {\n",
              "    background-color: var(--bg-color);\n",
              "    border: none;\n",
              "    border-radius: 50%;\n",
              "    cursor: pointer;\n",
              "    display: none;\n",
              "    fill: var(--fill-color);\n",
              "    height: 32px;\n",
              "    padding: 0;\n",
              "    width: 32px;\n",
              "  }\n",
              "\n",
              "  .colab-df-quickchart:hover {\n",
              "    background-color: var(--hover-bg-color);\n",
              "    box-shadow: 0 1px 2px rgba(60, 64, 67, 0.3), 0 1px 3px 1px rgba(60, 64, 67, 0.15);\n",
              "    fill: var(--button-hover-fill-color);\n",
              "  }\n",
              "\n",
              "  .colab-df-quickchart-complete:disabled,\n",
              "  .colab-df-quickchart-complete:disabled:hover {\n",
              "    background-color: var(--disabled-bg-color);\n",
              "    fill: var(--disabled-fill-color);\n",
              "    box-shadow: none;\n",
              "  }\n",
              "\n",
              "  .colab-df-spinner {\n",
              "    border: 2px solid var(--fill-color);\n",
              "    border-color: transparent;\n",
              "    border-bottom-color: var(--fill-color);\n",
              "    animation:\n",
              "      spin 1s steps(1) infinite;\n",
              "  }\n",
              "\n",
              "  @keyframes spin {\n",
              "    0% {\n",
              "      border-color: transparent;\n",
              "      border-bottom-color: var(--fill-color);\n",
              "      border-left-color: var(--fill-color);\n",
              "    }\n",
              "    20% {\n",
              "      border-color: transparent;\n",
              "      border-left-color: var(--fill-color);\n",
              "      border-top-color: var(--fill-color);\n",
              "    }\n",
              "    30% {\n",
              "      border-color: transparent;\n",
              "      border-left-color: var(--fill-color);\n",
              "      border-top-color: var(--fill-color);\n",
              "      border-right-color: var(--fill-color);\n",
              "    }\n",
              "    40% {\n",
              "      border-color: transparent;\n",
              "      border-right-color: var(--fill-color);\n",
              "      border-top-color: var(--fill-color);\n",
              "    }\n",
              "    60% {\n",
              "      border-color: transparent;\n",
              "      border-right-color: var(--fill-color);\n",
              "    }\n",
              "    80% {\n",
              "      border-color: transparent;\n",
              "      border-right-color: var(--fill-color);\n",
              "      border-bottom-color: var(--fill-color);\n",
              "    }\n",
              "    90% {\n",
              "      border-color: transparent;\n",
              "      border-bottom-color: var(--fill-color);\n",
              "    }\n",
              "  }\n",
              "</style>\n",
              "\n",
              "  <script>\n",
              "    async function quickchart(key) {\n",
              "      const quickchartButtonEl =\n",
              "        document.querySelector('#' + key + ' button');\n",
              "      quickchartButtonEl.disabled = true;  // To prevent multiple clicks.\n",
              "      quickchartButtonEl.classList.add('colab-df-spinner');\n",
              "      try {\n",
              "        const charts = await google.colab.kernel.invokeFunction(\n",
              "            'suggestCharts', [key], {});\n",
              "      } catch (error) {\n",
              "        console.error('Error during call to suggestCharts:', error);\n",
              "      }\n",
              "      quickchartButtonEl.classList.remove('colab-df-spinner');\n",
              "      quickchartButtonEl.classList.add('colab-df-quickchart-complete');\n",
              "    }\n",
              "    (() => {\n",
              "      let quickchartButtonEl =\n",
              "        document.querySelector('#df-2b86e46c-a327-49ad-aa34-a7db4a24a819 button');\n",
              "      quickchartButtonEl.style.display =\n",
              "        google.colab.kernel.accessAllowed ? 'block' : 'none';\n",
              "    })();\n",
              "  </script>\n",
              "</div>\n",
              "\n",
              "    </div>\n",
              "  </div>\n"
            ],
            "application/vnd.google.colaboratory.intrinsic+json": {
              "type": "dataframe",
              "variable_name": "df",
              "summary": "{\n  \"name\": \"df\",\n  \"rows\": 1200,\n  \"fields\": [\n    {\n      \"column\": \"id\",\n      \"properties\": {\n        \"dtype\": \"number\",\n        \"std\": 346,\n        \"min\": 1,\n        \"max\": 1200,\n        \"num_unique_values\": 1200,\n        \"samples\": [\n          1179,\n          866,\n          102\n        ],\n        \"semantic_type\": \"\",\n        \"description\": \"\"\n      }\n    },\n    {\n      \"column\": \"release_date\",\n      \"properties\": {\n        \"dtype\": \"object\",\n        \"num_unique_values\": 808,\n        \"samples\": [\n          \"2022-03-08\",\n          \"2023-08-31\",\n          \"2022-03-05\"\n        ],\n        \"semantic_type\": \"\",\n        \"description\": \"\"\n      }\n    },\n    {\n      \"column\": \"debit_account\",\n      \"properties\": {\n        \"dtype\": \"string\",\n        \"num_unique_values\": 1200,\n        \"samples\": [\n          \"D85MCV\",\n          \"DDC7G7\",\n          \"DER6WK\"\n        ],\n        \"semantic_type\": \"\",\n        \"description\": \"\"\n      }\n    },\n    {\n      \"column\": \"credit_account\",\n      \"properties\": {\n        \"dtype\": \"string\",\n        \"num_unique_values\": 1197,\n        \"samples\": [\n          \"CLMYB9\",\n          \"C0MR3B\",\n          \"CNL7TZ\"\n        ],\n        \"semantic_type\": \"\",\n        \"description\": \"\"\n      }\n    },\n    {\n      \"column\": \"amount\",\n      \"properties\": {\n        \"dtype\": \"number\",\n        \"std\": 25595.942954667833,\n        \"min\": 105.41,\n        \"max\": 187297.68604092003,\n        \"num_unique_values\": 1199,\n        \"samples\": [\n          9451.79,\n          6042.11,\n          2773.08\n        ],\n        \"semantic_type\": \"\",\n        \"description\": \"\"\n      }\n    },\n    {\n      \"column\": \"document\",\n      \"properties\": {\n        \"dtype\": \"string\",\n        \"num_unique_values\": 1078,\n        \"samples\": [\n          \"DOCUBUGK\",\n          \"DOCPXQMU\",\n          \"DOCDIMK9\"\n        ],\n        \"semantic_type\": \"\",\n        \"description\": \"\"\n      }\n    },\n    {\n      \"column\": \"operation_nature\",\n      \"properties\": {\n        \"dtype\": \"string\",\n        \"num_unique_values\": 1080,\n        \"samples\": [\n          \"OPWMO5T\",\n          \"OP4DL57\",\n          \"OP27H2G\"\n        ],\n        \"semantic_type\": \"\",\n        \"description\": \"\"\n      }\n    },\n    {\n      \"column\": \"cost_center\",\n      \"properties\": {\n        \"dtype\": \"string\",\n        \"num_unique_values\": 1200,\n        \"samples\": [\n          \"CCV3BS4\",\n          \"CCFPZV0\",\n          \"CCODCW9\"\n        ],\n        \"semantic_type\": \"\",\n        \"description\": \"\"\n      }\n    },\n    {\n      \"column\": \"taxes\",\n      \"properties\": {\n        \"dtype\": \"number\",\n        \"std\": 1116.015867821091,\n        \"min\": 154.26397977720023,\n        \"max\": 6779.970521973589,\n        \"num_unique_values\": 10,\n        \"samples\": [\n          2220.1702370673083,\n          471.092359509024,\n          430.1553391717098\n        ],\n        \"semantic_type\": \"\",\n        \"description\": \"\"\n      }\n    },\n    {\n      \"column\": \"currency\",\n      \"properties\": {\n        \"dtype\": \"category\",\n        \"num_unique_values\": 4,\n        \"samples\": [\n          \"JPY\",\n          \"USD\",\n          \"EUR\"\n        ],\n        \"semantic_type\": \"\",\n        \"description\": \"\"\n      }\n    },\n    {\n      \"column\": \"conversion_rate\",\n      \"properties\": {\n        \"dtype\": \"number\",\n        \"std\": 0.8539060626345463,\n        \"min\": 1.2480290666241416,\n        \"max\": 3.523286759155978,\n        \"num_unique_values\": 5,\n        \"samples\": [\n          3.523286759155978,\n          1.2480290666241416,\n          2.5681167953894297\n        ],\n        \"semantic_type\": \"\",\n        \"description\": \"\"\n      }\n    }\n  ]\n}"
            }
          },
          "metadata": {},
          "execution_count": 7
        }
      ],
      "source": [
        "# 5. Dataset sample\n",
        "df.head()\n"
      ]
    },
    {
      "cell_type": "code",
      "execution_count": 8,
      "metadata": {
        "colab": {
          "base_uri": "https://localhost:8080/"
        },
        "id": "IO8wJZUOGIyP",
        "outputId": "be6d7733-722d-46bd-fc39-0b1a97a489ff"
      },
      "outputs": [
        {
          "output_type": "execute_result",
          "data": {
            "text/plain": [
              "Index(['id', 'release_date', 'debit_account', 'credit_account', 'amount',\n",
              "       'document', 'operation_nature', 'cost_center', 'taxes', 'currency',\n",
              "       'conversion_rate'],\n",
              "      dtype='object')"
            ]
          },
          "metadata": {},
          "execution_count": 8
        }
      ],
      "source": [
        "# 6. Columns\n",
        "df.columns"
      ]
    },
    {
      "cell_type": "markdown",
      "metadata": {
        "id": "HU4u6QoVGIyP"
      },
      "source": [
        "## **Exploratory Analysis Before Cleaning**"
      ]
    },
    {
      "cell_type": "code",
      "execution_count": 9,
      "metadata": {
        "colab": {
          "base_uri": "https://localhost:8080/"
        },
        "id": "v-goSdrzGIyP",
        "outputId": "6b06bb76-e425-4ebf-950c-7eb96fc7642e"
      },
      "outputs": [
        {
          "output_type": "stream",
          "name": "stdout",
          "text": [
            "<class 'pandas.core.frame.DataFrame'>\n",
            "RangeIndex: 1200 entries, 0 to 1199\n",
            "Data columns (total 11 columns):\n",
            " #   Column            Non-Null Count  Dtype  \n",
            "---  ------            --------------  -----  \n",
            " 0   id                1200 non-null   int64  \n",
            " 1   release_date      1200 non-null   object \n",
            " 2   debit_account     1200 non-null   object \n",
            " 3   credit_account    1200 non-null   object \n",
            " 4   amount            1200 non-null   float64\n",
            " 5   document          1078 non-null   object \n",
            " 6   operation_nature  1080 non-null   object \n",
            " 7   cost_center       1200 non-null   object \n",
            " 8   taxes             1020 non-null   float64\n",
            " 9   currency          947 non-null    object \n",
            " 10  conversion_rate   982 non-null    float64\n",
            "dtypes: float64(3), int64(1), object(7)\n",
            "memory usage: 103.2+ KB\n"
          ]
        }
      ],
      "source": [
        "# 7. Info\n",
        "df.info()"
      ]
    },
    {
      "cell_type": "code",
      "execution_count": 10,
      "metadata": {
        "colab": {
          "base_uri": "https://localhost:8080/",
          "height": 500
        },
        "id": "O1-mykGzGIyP",
        "outputId": "4a6908a2-4596-4b2f-814a-322f227c59fd"
      },
      "outputs": [
        {
          "output_type": "execute_result",
          "data": {
            "text/plain": [
              "id                  False\n",
              "release_date        False\n",
              "debit_account       False\n",
              "credit_account      False\n",
              "amount              False\n",
              "document             True\n",
              "operation_nature     True\n",
              "cost_center         False\n",
              "taxes                True\n",
              "currency             True\n",
              "conversion_rate      True\n",
              "dtype: bool"
            ],
            "text/html": [
              "<div>\n",
              "<style scoped>\n",
              "    .dataframe tbody tr th:only-of-type {\n",
              "        vertical-align: middle;\n",
              "    }\n",
              "\n",
              "    .dataframe tbody tr th {\n",
              "        vertical-align: top;\n",
              "    }\n",
              "\n",
              "    .dataframe thead th {\n",
              "        text-align: right;\n",
              "    }\n",
              "</style>\n",
              "<table border=\"1\" class=\"dataframe\">\n",
              "  <thead>\n",
              "    <tr style=\"text-align: right;\">\n",
              "      <th></th>\n",
              "      <th>0</th>\n",
              "    </tr>\n",
              "  </thead>\n",
              "  <tbody>\n",
              "    <tr>\n",
              "      <th>id</th>\n",
              "      <td>False</td>\n",
              "    </tr>\n",
              "    <tr>\n",
              "      <th>release_date</th>\n",
              "      <td>False</td>\n",
              "    </tr>\n",
              "    <tr>\n",
              "      <th>debit_account</th>\n",
              "      <td>False</td>\n",
              "    </tr>\n",
              "    <tr>\n",
              "      <th>credit_account</th>\n",
              "      <td>False</td>\n",
              "    </tr>\n",
              "    <tr>\n",
              "      <th>amount</th>\n",
              "      <td>False</td>\n",
              "    </tr>\n",
              "    <tr>\n",
              "      <th>document</th>\n",
              "      <td>True</td>\n",
              "    </tr>\n",
              "    <tr>\n",
              "      <th>operation_nature</th>\n",
              "      <td>True</td>\n",
              "    </tr>\n",
              "    <tr>\n",
              "      <th>cost_center</th>\n",
              "      <td>False</td>\n",
              "    </tr>\n",
              "    <tr>\n",
              "      <th>taxes</th>\n",
              "      <td>True</td>\n",
              "    </tr>\n",
              "    <tr>\n",
              "      <th>currency</th>\n",
              "      <td>True</td>\n",
              "    </tr>\n",
              "    <tr>\n",
              "      <th>conversion_rate</th>\n",
              "      <td>True</td>\n",
              "    </tr>\n",
              "  </tbody>\n",
              "</table>\n",
              "</div><br><label><b>dtype:</b> bool</label>"
            ]
          },
          "metadata": {},
          "execution_count": 10
        }
      ],
      "source": [
        "# 8. Are there missing values?\n",
        "df.isna().any()"
      ]
    },
    {
      "cell_type": "code",
      "execution_count": 11,
      "metadata": {
        "colab": {
          "base_uri": "https://localhost:8080/",
          "height": 500
        },
        "id": "WBh020iwGIyP",
        "outputId": "709c4b81-cb2a-4c77-8866-001be3f67176"
      },
      "outputs": [
        {
          "output_type": "execute_result",
          "data": {
            "text/plain": [
              "id                    0\n",
              "release_date          0\n",
              "debit_account         0\n",
              "credit_account        0\n",
              "amount                0\n",
              "document            122\n",
              "operation_nature    120\n",
              "cost_center           0\n",
              "taxes               180\n",
              "currency            253\n",
              "conversion_rate     218\n",
              "dtype: int64"
            ],
            "text/html": [
              "<div>\n",
              "<style scoped>\n",
              "    .dataframe tbody tr th:only-of-type {\n",
              "        vertical-align: middle;\n",
              "    }\n",
              "\n",
              "    .dataframe tbody tr th {\n",
              "        vertical-align: top;\n",
              "    }\n",
              "\n",
              "    .dataframe thead th {\n",
              "        text-align: right;\n",
              "    }\n",
              "</style>\n",
              "<table border=\"1\" class=\"dataframe\">\n",
              "  <thead>\n",
              "    <tr style=\"text-align: right;\">\n",
              "      <th></th>\n",
              "      <th>0</th>\n",
              "    </tr>\n",
              "  </thead>\n",
              "  <tbody>\n",
              "    <tr>\n",
              "      <th>id</th>\n",
              "      <td>0</td>\n",
              "    </tr>\n",
              "    <tr>\n",
              "      <th>release_date</th>\n",
              "      <td>0</td>\n",
              "    </tr>\n",
              "    <tr>\n",
              "      <th>debit_account</th>\n",
              "      <td>0</td>\n",
              "    </tr>\n",
              "    <tr>\n",
              "      <th>credit_account</th>\n",
              "      <td>0</td>\n",
              "    </tr>\n",
              "    <tr>\n",
              "      <th>amount</th>\n",
              "      <td>0</td>\n",
              "    </tr>\n",
              "    <tr>\n",
              "      <th>document</th>\n",
              "      <td>122</td>\n",
              "    </tr>\n",
              "    <tr>\n",
              "      <th>operation_nature</th>\n",
              "      <td>120</td>\n",
              "    </tr>\n",
              "    <tr>\n",
              "      <th>cost_center</th>\n",
              "      <td>0</td>\n",
              "    </tr>\n",
              "    <tr>\n",
              "      <th>taxes</th>\n",
              "      <td>180</td>\n",
              "    </tr>\n",
              "    <tr>\n",
              "      <th>currency</th>\n",
              "      <td>253</td>\n",
              "    </tr>\n",
              "    <tr>\n",
              "      <th>conversion_rate</th>\n",
              "      <td>218</td>\n",
              "    </tr>\n",
              "  </tbody>\n",
              "</table>\n",
              "</div><br><label><b>dtype:</b> int64</label>"
            ]
          },
          "metadata": {},
          "execution_count": 11
        }
      ],
      "source": [
        "# 9. Are there missing values? How many?\n",
        "df.isna().sum()"
      ]
    },
    {
      "cell_type": "code",
      "execution_count": 12,
      "metadata": {
        "colab": {
          "base_uri": "https://localhost:8080/"
        },
        "id": "P0e6DF5GGIyQ",
        "outputId": "397dcc4c-ce70-4b30-e05b-05c338088332"
      },
      "outputs": [
        {
          "output_type": "stream",
          "name": "stdout",
          "text": [
            "id                  0.000000\n",
            "release_date        0.000000\n",
            "debit_account       0.000000\n",
            "credit_account      0.000000\n",
            "amount              0.000000\n",
            "document            0.101667\n",
            "operation_nature    0.100000\n",
            "cost_center         0.000000\n",
            "taxes               0.150000\n",
            "currency            0.210833\n",
            "conversion_rate     0.181667\n",
            "dtype: float64\n"
          ]
        }
      ],
      "source": [
        "# 10. Sum of missing values per column\n",
        "missing_values = df.isna().sum()\n",
        "\n",
        "# 11. Total number of rows\n",
        "total_rows = len(df)\n",
        "\n",
        "# 12. Proportion of missing values per column\n",
        "missing_value_proportion = missing_values / total_rows\n",
        "\n",
        "# Displaying the proportion of missing values\n",
        "print(missing_value_proportion)"
      ]
    },
    {
      "cell_type": "markdown",
      "metadata": {
        "id": "yt7J2HwRGIyQ"
      },
      "source": [
        "### **Visualizations**\n"
      ]
    },
    {
      "cell_type": "markdown",
      "metadata": {
        "id": "08FW1qX2GIyQ"
      },
      "source": [
        "**Distribution of Transaction Values**: Histogram showing the distribution of monetary transaction values. The density line (KDE) helps to understand the shape of the distribution.\n"
      ]
    },
    {
      "cell_type": "code",
      "execution_count": 13,
      "metadata": {
        "colab": {
          "base_uri": "https://localhost:8080/",
          "height": 488
        },
        "id": "EYMsrluaGIyQ",
        "outputId": "389c12a7-7fe3-44e0-d940-aaa34b92226e"
      },
      "outputs": [
        {
          "output_type": "display_data",
          "data": {
            "text/plain": [
              "<Figure size 1000x500 with 1 Axes>"
            ],
            "image/png": "[encoded data removed]"
          },
          "metadata": {}
        }
      ],
      "source": [
        "# 13. Plot 1: Distribution of Transaction Values\n",
        "plt.figure(figsize=(10, 5))\n",
        "sns.histplot(df['amount'], kde=True, bins=30)\n",
        "plt.title('Distribution of Transaction Values')\n",
        "plt.xlabel('Amount')\n",
        "plt.ylabel('Frequency')\n",
        "plt.show()"
      ]
    },
    {
      "cell_type": "markdown",
      "metadata": {
        "id": "KrlgFC5pGIyQ"
      },
      "source": [
        "**Transaction Values Over Time**: A line plot showing how transaction values have varied over time. This can help identify trends or seasonal patterns in the data.\n"
      ]
    },
    {
      "cell_type": "code",
      "execution_count": 14,
      "metadata": {
        "colab": {
          "base_uri": "https://localhost:8080/",
          "height": 524
        },
        "id": "lRqy9IECGIyQ",
        "outputId": "93f8e38b-ed9c-498d-848e-6cbe996d6623"
      },
      "outputs": [
        {
          "output_type": "display_data",
          "data": {
            "text/plain": [
              "<Figure size 1200x500 with 1 Axes>"
            ],
            "image/png": "[encoded data removed]"
          },
          "metadata": {}
        }
      ],
      "source": [
        "# 14. Plot 2: Transaction Values Over Time\n",
        "plt.figure(figsize=(12, 5))\n",
        "df['release_date'] = pd.to_datetime(df['release_date'])\n",
        "sns.lineplot(x='release_date', y='amount', data=df)\n",
        "plt.title('Transaction Values Over Time')\n",
        "plt.xlabel('Release Date')\n",
        "plt.ylabel('Amount')\n",
        "plt.xticks(rotation=45)\n",
        "plt.show()\n"
      ]
    },
    {
      "cell_type": "markdown",
      "metadata": {
        "id": "NTdFcIh1GIyR"
      },
      "source": [
        "**Tax Boxplot**: This boxplot provides insight into the distribution of tax values, highlighting the median, quartiles, and potential outliers.\n"
      ]
    },
    {
      "cell_type": "code",
      "execution_count": 15,
      "metadata": {
        "colab": {
          "base_uri": "https://localhost:8080/",
          "height": 488
        },
        "id": "W_H--bSOGIyR",
        "outputId": "4acf48bf-fe5a-4475-a05e-5cfeac9c5e60"
      },
      "outputs": [
        {
          "output_type": "display_data",
          "data": {
            "text/plain": [
              "<Figure size 800x500 with 1 Axes>"
            ],
            "image/png": "[encoded data removed]"
          },
          "metadata": {}
        }
      ],
      "source": [
        "# 15. Plot 3: Tax Boxplot\n",
        "plt.figure(figsize=(8, 5))\n",
        "sns.boxplot(x=df['taxes'])\n",
        "plt.title('Tax Boxplot')\n",
        "plt.xlabel('Taxes')\n",
        "plt.show()"
      ]
    },
    {
      "cell_type": "markdown",
      "metadata": {
        "id": "4_RRJM3lGIyR"
      },
      "source": [
        "**Count of Transactions by Currency**: A bar chart showing the number of transactions conducted in different currencies. This can be useful for understanding the prevalence of certain currencies in transactions.\n"
      ]
    },
    {
      "cell_type": "code",
      "execution_count": 16,
      "metadata": {
        "colab": {
          "base_uri": "https://localhost:8080/",
          "height": 410
        },
        "id": "pgE3ZYglGIyR",
        "outputId": "bbf7a553-2ebf-463f-9820-308179b014c5"
      },
      "outputs": [
        {
          "output_type": "display_data",
          "data": {
            "text/plain": [
              "<Figure size 600x400 with 1 Axes>"
            ],
            "image/png": "[encoded data removed]"
          },
          "metadata": {}
        }
      ],
      "source": [
        "# 16. Plot 4: Count of Transactions by Currency\n",
        "plt.figure(figsize=(6, 4))\n",
        "sns.countplot(x='currency', data=df)\n",
        "plt.title('Count of Transactions by Currency')\n",
        "plt.xlabel('Currency')\n",
        "plt.ylabel('Count')\n",
        "plt.show()"
      ]
    },
    {
      "cell_type": "markdown",
      "metadata": {
        "id": "KWg-UqgnGIyR"
      },
      "source": [
        "## **Handling Missing Values**"
      ]
    },
    {
      "cell_type": "markdown",
      "metadata": {
        "id": "raRaOhCvGIyR"
      },
      "source": [
        "**1. Handling Missing Values for Numeric Variables**\n",
        "\n",
        "For numeric variables, such as 'amount' or 'taxes,' a common approach is to replace missing values with the mean or median of the column. The choice between mean or median typically depends on the data distribution.\n"
      ]
    },
    {
      "cell_type": "code",
      "execution_count": 17,
      "metadata": {
        "colab": {
          "base_uri": "https://localhost:8080/"
        },
        "id": "FG996oDYGIyR",
        "outputId": "b276d1ab-c2d3-441b-ca1c-9a1390d1ffc0"
      },
      "outputs": [
        {
          "output_type": "execute_result",
          "data": {
            "text/plain": [
              "180"
            ]
          },
          "metadata": {},
          "execution_count": 17
        }
      ],
      "source": [
        "# 17. Are there missing values?\n",
        "df['taxes'].isna().sum()"
      ]
    },
    {
      "cell_type": "code",
      "execution_count": 18,
      "metadata": {
        "colab": {
          "base_uri": "https://localhost:8080/",
          "height": 488
        },
        "id": "x_FQojUbGIyR",
        "outputId": "6d50544e-d18c-41fd-d524-ca9936dbfa2f"
      },
      "outputs": [
        {
          "output_type": "display_data",
          "data": {
            "text/plain": [
              "<Figure size 1000x500 with 1 Axes>"
            ],
            "image/png": "[encoded data removed]"
          },
          "metadata": {}
        }
      ],
      "source": [
        "# 18. Distribution of Tax Values\n",
        "plt.figure(figsize=(10, 5))\n",
        "sns.histplot(df['taxes'], kde=True, bins=30)\n",
        "plt.title('Distribution of Tax Values')\n",
        "plt.xlabel('Value')\n",
        "plt.ylabel('Frequency')\n",
        "plt.show()"
      ]
    },
    {
      "cell_type": "code",
      "execution_count": 19,
      "metadata": {
        "colab": {
          "base_uri": "https://localhost:8080/"
        },
        "id": "fYRL7CnnGIyR",
        "outputId": "b70333aa-9832-4aee-de6f-40ee2d4967ef"
      },
      "outputs": [
        {
          "output_type": "execute_result",
          "data": {
            "text/plain": [
              "604.264545965864"
            ]
          },
          "metadata": {},
          "execution_count": 19
        }
      ],
      "source": [
        "# 19. Mean\n",
        "df['taxes'].mean()"
      ]
    },
    {
      "cell_type": "code",
      "execution_count": 20,
      "metadata": {
        "colab": {
          "base_uri": "https://localhost:8080/"
        },
        "id": "-6mLS147GIyR",
        "outputId": "0882fba8-1bc7-4393-b7c6-174fb513029c"
      },
      "outputs": [
        {
          "output_type": "execute_result",
          "data": {
            "text/plain": [
              "430.1553391717098"
            ]
          },
          "metadata": {},
          "execution_count": 20
        }
      ],
      "source": [
        "# 20. Median\n",
        "df['taxes'].median()\n"
      ]
    },
    {
      "cell_type": "code",
      "execution_count": 21,
      "metadata": {
        "id": "Og0x9xySGIyR"
      },
      "outputs": [],
      "source": [
        "# 21. Replacing missing values in 'taxes' with the median\n",
        "df['taxes'].fillna(df['taxes'].median(), inplace=True)"
      ]
    },
    {
      "cell_type": "code",
      "execution_count": 22,
      "metadata": {
        "colab": {
          "base_uri": "https://localhost:8080/"
        },
        "id": "teS9WiHWGIyS",
        "outputId": "d8ecad33-4aa5-4017-c513-568240783263"
      },
      "outputs": [
        {
          "output_type": "execute_result",
          "data": {
            "text/plain": [
              "0"
            ]
          },
          "metadata": {},
          "execution_count": 22
        }
      ],
      "source": [
        "# 22. Are there missing values?\n",
        "df['taxes'].isna().sum()"
      ]
    },
    {
      "cell_type": "markdown",
      "metadata": {
        "id": "usDxR-6AGIyS"
      },
      "source": [
        "**2. Handling Missing Values for Categorical Variables**\n",
        "\n",
        "For categorical variables, such as 'currency', you can replace missing values with the most frequent value (mode) or categorize them as 'Unknown'.\n"
      ]
    },
    {
      "cell_type": "code",
      "execution_count": 23,
      "metadata": {
        "colab": {
          "base_uri": "https://localhost:8080/",
          "height": 500
        },
        "id": "bCI-wBWrGIyS",
        "outputId": "8082755f-4fe9-4eaf-cc74-61f0a599289f"
      },
      "outputs": [
        {
          "output_type": "execute_result",
          "data": {
            "text/plain": [
              "id                    0\n",
              "release_date          0\n",
              "debit_account         0\n",
              "credit_account        0\n",
              "amount                0\n",
              "document            122\n",
              "operation_nature    120\n",
              "cost_center           0\n",
              "taxes                 0\n",
              "currency            253\n",
              "conversion_rate     218\n",
              "dtype: int64"
            ],
            "text/html": [
              "<div>\n",
              "<style scoped>\n",
              "    .dataframe tbody tr th:only-of-type {\n",
              "        vertical-align: middle;\n",
              "    }\n",
              "\n",
              "    .dataframe tbody tr th {\n",
              "        vertical-align: top;\n",
              "    }\n",
              "\n",
              "    .dataframe thead th {\n",
              "        text-align: right;\n",
              "    }\n",
              "</style>\n",
              "<table border=\"1\" class=\"dataframe\">\n",
              "  <thead>\n",
              "    <tr style=\"text-align: right;\">\n",
              "      <th></th>\n",
              "      <th>0</th>\n",
              "    </tr>\n",
              "  </thead>\n",
              "  <tbody>\n",
              "    <tr>\n",
              "      <th>id</th>\n",
              "      <td>0</td>\n",
              "    </tr>\n",
              "    <tr>\n",
              "      <th>release_date</th>\n",
              "      <td>0</td>\n",
              "    </tr>\n",
              "    <tr>\n",
              "      <th>debit_account</th>\n",
              "      <td>0</td>\n",
              "    </tr>\n",
              "    <tr>\n",
              "      <th>credit_account</th>\n",
              "      <td>0</td>\n",
              "    </tr>\n",
              "    <tr>\n",
              "      <th>amount</th>\n",
              "      <td>0</td>\n",
              "    </tr>\n",
              "    <tr>\n",
              "      <th>document</th>\n",
              "      <td>122</td>\n",
              "    </tr>\n",
              "    <tr>\n",
              "      <th>operation_nature</th>\n",
              "      <td>120</td>\n",
              "    </tr>\n",
              "    <tr>\n",
              "      <th>cost_center</th>\n",
              "      <td>0</td>\n",
              "    </tr>\n",
              "    <tr>\n",
              "      <th>taxes</th>\n",
              "      <td>0</td>\n",
              "    </tr>\n",
              "    <tr>\n",
              "      <th>currency</th>\n",
              "      <td>253</td>\n",
              "    </tr>\n",
              "    <tr>\n",
              "      <th>conversion_rate</th>\n",
              "      <td>218</td>\n",
              "    </tr>\n",
              "  </tbody>\n",
              "</table>\n",
              "</div><br><label><b>dtype:</b> int64</label>"
            ]
          },
          "metadata": {},
          "execution_count": 23
        }
      ],
      "source": [
        "# 23. Are there missing values? How many?\n",
        "df.isna().sum()"
      ]
    },
    {
      "cell_type": "code",
      "execution_count": 24,
      "metadata": {
        "colab": {
          "base_uri": "https://localhost:8080/"
        },
        "id": "1cmv4m4RGIyS",
        "outputId": "255bf2af-bf84-4ebe-bf73-5d615c75b068"
      },
      "outputs": [
        {
          "output_type": "execute_result",
          "data": {
            "text/plain": [
              "253"
            ]
          },
          "metadata": {},
          "execution_count": 24
        }
      ],
      "source": [
        "# 24. Are there missing values in 'currency'?\n",
        "df['currency'].isna().sum()"
      ]
    },
    {
      "cell_type": "code",
      "execution_count": 25,
      "metadata": {
        "colab": {
          "base_uri": "https://localhost:8080/",
          "height": 38
        },
        "id": "HUQ-wJfoGIyS",
        "outputId": "113764dd-e588-4eea-f68b-a019dc066906"
      },
      "outputs": [
        {
          "output_type": "execute_result",
          "data": {
            "text/plain": [
              "'BRL'"
            ],
            "application/vnd.google.colaboratory.intrinsic+json": {
              "type": "string"
            }
          },
          "metadata": {},
          "execution_count": 25
        }
      ],
      "source": [
        "# 25. Calculate the mode\n",
        "df['currency'].mode()[0]"
      ]
    },
    {
      "cell_type": "code",
      "execution_count": 26,
      "metadata": {
        "id": "HMNUX2TiGIyS"
      },
      "outputs": [],
      "source": [
        "# 26. Replacing missing values in 'currency' with the mode\n",
        "df['currency'].fillna(df['currency'].mode()[0], inplace=True)"
      ]
    },
    {
      "cell_type": "code",
      "execution_count": 27,
      "metadata": {
        "colab": {
          "base_uri": "https://localhost:8080/"
        },
        "id": "GLE-kH5bGIyS",
        "outputId": "295f45a5-4e5d-4689-8046-37402fa51f50"
      },
      "outputs": [
        {
          "output_type": "execute_result",
          "data": {
            "text/plain": [
              "0"
            ]
          },
          "metadata": {},
          "execution_count": 27
        }
      ],
      "source": [
        "# 27. Are there missing values in 'currency'?\n",
        "df['currency'].isna().sum()"
      ]
    },
    {
      "cell_type": "code",
      "execution_count": 28,
      "metadata": {
        "colab": {
          "base_uri": "https://localhost:8080/"
        },
        "id": "ODQhgkn3GIyS",
        "outputId": "cf69965b-00ef-4d8b-9d6f-ce7e76e3e766"
      },
      "outputs": [
        {
          "output_type": "stream",
          "name": "stdout",
          "text": [
            "id                  0.000000\n",
            "release_date        0.000000\n",
            "debit_account       0.000000\n",
            "credit_account      0.000000\n",
            "amount              0.000000\n",
            "document            0.101667\n",
            "operation_nature    0.100000\n",
            "cost_center         0.000000\n",
            "taxes               0.000000\n",
            "currency            0.000000\n",
            "conversion_rate     0.181667\n",
            "dtype: float64\n"
          ]
        }
      ],
      "source": [
        "# 28. Calculating the sum of missing values per column\n",
        "missing_values = df.isna().sum()\n",
        "\n",
        "# 29. Calculating the total number of rows\n",
        "total_rows = len(df)\n",
        "\n",
        "# 30. Calculating the proportion of missing values per column\n",
        "missing_value_proportion = missing_values / total_rows\n",
        "\n",
        "# Displaying the proportion of missing values\n",
        "print(missing_value_proportion)"
      ]
    },
    {
      "cell_type": "code",
      "execution_count": 29,
      "metadata": {
        "id": "yUEs3pgKGIyS"
      },
      "outputs": [],
      "source": [
        "# 31. Filling missing values in 'conversion_rate' with the category 'Other'\n",
        "df['conversion_rate'].fillna('Other', inplace=True)"
      ]
    },
    {
      "cell_type": "code",
      "execution_count": 30,
      "metadata": {
        "id": "txQopl62GIyS"
      },
      "outputs": [],
      "source": [
        "# 32. Filling missing values in 'document' with the category 'Other'\n",
        "df['document'].fillna('Other', inplace=True)"
      ]
    },
    {
      "cell_type": "code",
      "execution_count": 31,
      "metadata": {
        "id": "kRiyaSqOGIyT"
      },
      "outputs": [],
      "source": [
        "# 33. Filling missing values in 'operation_nature' with bfill\n",
        "# This method fills each missing value with the next valid value in the same column (backward fill)\n",
        "df['operation_nature'].fillna(method='bfill', inplace=True)"
      ]
    },
    {
      "cell_type": "code",
      "execution_count": 32,
      "metadata": {
        "colab": {
          "base_uri": "https://localhost:8080/",
          "height": 258
        },
        "id": "Ug7zpSPtGIyT",
        "outputId": "65d86d24-bb24-47ea-d99a-c5e6e7e84104"
      },
      "outputs": [
        {
          "output_type": "execute_result",
          "data": {
            "text/plain": [
              "   id release_date debit_account credit_account   amount  document  \\\n",
              "0   1   2022-02-27        DWAVRL         CIOVQ6  5533.25  DOCPAXGQ   \n",
              "1   2   2022-05-11        D8TF53         CV9Y0V  7180.37  DOCBXZXG   \n",
              "2   3   2020-03-23        D0TZCE         CELQSH  6067.36  DOCF5ITC   \n",
              "3   4   2021-06-14        DOGLK7         CDFEMS  5494.34  DOCZRS1U   \n",
              "4   5   2022-11-13        DHL0I5         CRU97G  4294.18     Other   \n",
              "\n",
              "  operation_nature cost_center      taxes currency conversion_rate  \n",
              "0          OP7JDVK     CC5FYA2  444.13252      BRL        3.475606  \n",
              "1          OPXSY64     CCLH4R9  471.09236      EUR        3.523287  \n",
              "2          OPTDE9B     CCDG8CJ  326.49988      JPY        3.523287  \n",
              "3          OP62LG1     CC98G2K  471.09236      JPY        3.523287  \n",
              "4          OP62LG1     CCZD80Y  154.26398      EUR        3.523287  "
            ],
            "text/html": [
              "\n",
              "  <div id=\"df-ba247ae5-5aea-4143-bd3b-69e0a38549c5\" class=\"colab-df-container\">\n",
              "    <div>\n",
              "<style scoped>\n",
              "    .dataframe tbody tr th:only-of-type {\n",
              "        vertical-align: middle;\n",
              "    }\n",
              "\n",
              "    .dataframe tbody tr th {\n",
              "        vertical-align: top;\n",
              "    }\n",
              "\n",
              "    .dataframe thead th {\n",
              "        text-align: right;\n",
              "    }\n",
              "</style>\n",
              "<table border=\"1\" class=\"dataframe\">\n",
              "  <thead>\n",
              "    <tr style=\"text-align: right;\">\n",
              "      <th></th>\n",
              "      <th>id</th>\n",
              "      <th>release_date</th>\n",
              "      <th>debit_account</th>\n",
              "      <th>credit_account</th>\n",
              "      <th>amount</th>\n",
              "      <th>document</th>\n",
              "      <th>operation_nature</th>\n",
              "      <th>cost_center</th>\n",
              "      <th>taxes</th>\n",
              "      <th>currency</th>\n",
              "      <th>conversion_rate</th>\n",
              "    </tr>\n",
              "  </thead>\n",
              "  <tbody>\n",
              "    <tr>\n",
              "      <th>0</th>\n",
              "      <td>1</td>\n",
              "      <td>2022-02-27</td>\n",
              "      <td>DWAVRL</td>\n",
              "      <td>CIOVQ6</td>\n",
              "      <td>5533.25</td>\n",
              "      <td>DOCPAXGQ</td>\n",
              "      <td>OP7JDVK</td>\n",
              "      <td>CC5FYA2</td>\n",
              "      <td>444.13252</td>\n",
              "      <td>BRL</td>\n",
              "      <td>3.475606</td>\n",
              "    </tr>\n",
              "    <tr>\n",
              "      <th>1</th>\n",
              "      <td>2</td>\n",
              "      <td>2022-05-11</td>\n",
              "      <td>D8TF53</td>\n",
              "      <td>CV9Y0V</td>\n",
              "      <td>7180.37</td>\n",
              "      <td>DOCBXZXG</td>\n",
              "      <td>OPXSY64</td>\n",
              "      <td>CCLH4R9</td>\n",
              "      <td>471.09236</td>\n",
              "      <td>EUR</td>\n",
              "      <td>3.523287</td>\n",
              "    </tr>\n",
              "    <tr>\n",
              "      <th>2</th>\n",
              "      <td>3</td>\n",
              "      <td>2020-03-23</td>\n",
              "      <td>D0TZCE</td>\n",
              "      <td>CELQSH</td>\n",
              "      <td>6067.36</td>\n",
              "      <td>DOCF5ITC</td>\n",
              "      <td>OPTDE9B</td>\n",
              "      <td>CCDG8CJ</td>\n",
              "      <td>326.49988</td>\n",
              "      <td>JPY</td>\n",
              "      <td>3.523287</td>\n",
              "    </tr>\n",
              "    <tr>\n",
              "      <th>3</th>\n",
              "      <td>4</td>\n",
              "      <td>2021-06-14</td>\n",
              "      <td>DOGLK7</td>\n",
              "      <td>CDFEMS</td>\n",
              "      <td>5494.34</td>\n",
              "      <td>DOCZRS1U</td>\n",
              "      <td>OP62LG1</td>\n",
              "      <td>CC98G2K</td>\n",
              "      <td>471.09236</td>\n",
              "      <td>JPY</td>\n",
              "      <td>3.523287</td>\n",
              "    </tr>\n",
              "    <tr>\n",
              "      <th>4</th>\n",
              "      <td>5</td>\n",
              "      <td>2022-11-13</td>\n",
              "      <td>DHL0I5</td>\n",
              "      <td>CRU97G</td>\n",
              "      <td>4294.18</td>\n",
              "      <td>Other</td>\n",
              "      <td>OP62LG1</td>\n",
              "      <td>CCZD80Y</td>\n",
              "      <td>154.26398</td>\n",
              "      <td>EUR</td>\n",
              "      <td>3.523287</td>\n",
              "    </tr>\n",
              "  </tbody>\n",
              "</table>\n",
              "</div>\n",
              "    <div class=\"colab-df-buttons\">\n",
              "\n",
              "  <div class=\"colab-df-container\">\n",
              "    <button class=\"colab-df-convert\" onclick=\"convertToInteractive('df-ba247ae5-5aea-4143-bd3b-69e0a38549c5')\"\n",
              "            title=\"Convert this dataframe to an interactive table.\"\n",
              "            style=\"display:none;\">\n",
              "\n",
              "  <svg xmlns=\"http://www.w3.org/2000/svg\" height=\"24px\" viewBox=\"0 -960 960 960\">\n",
              "    <path d=\"M120-120v-720h720v720H120Zm60-500h600v-160H180v160Zm220 220h160v-160H400v160Zm0 220h160v-160H400v160ZM180-400h160v-160H180v160Zm440 0h160v-160H620v160ZM180-180h160v-160H180v160Zm440 0h160v-160H620v160Z\"/>\n",
              "  </svg>\n",
              "    </button>\n",
              "\n",
              "  <style>\n",
              "    .colab-df-container {\n",
              "      display:flex;\n",
              "      gap: 12px;\n",
              "    }\n",
              "\n",
              "    .colab-df-convert {\n",
              "      background-color: #E8F0FE;\n",
              "      border: none;\n",
              "      border-radius: 50%;\n",
              "      cursor: pointer;\n",
              "      display: none;\n",
              "      fill: #1967D2;\n",
              "      height: 32px;\n",
              "      padding: 0 0 0 0;\n",
              "      width: 32px;\n",
              "    }\n",
              "\n",
              "    .colab-df-convert:hover {\n",
              "      background-color: #E2EBFA;\n",
              "      box-shadow: 0px 1px 2px rgba(60, 64, 67, 0.3), 0px 1px 3px 1px rgba(60, 64, 67, 0.15);\n",
              "      fill: #174EA6;\n",
              "    }\n",
              "\n",
              "    .colab-df-buttons div {\n",
              "      margin-bottom: 4px;\n",
              "    }\n",
              "\n",
              "    [theme=dark] .colab-df-convert {\n",
              "      background-color: #3B4455;\n",
              "      fill: #D2E3FC;\n",
              "    }\n",
              "\n",
              "    [theme=dark] .colab-df-convert:hover {\n",
              "      background-color: #434B5C;\n",
              "      box-shadow: 0px 1px 3px 1px rgba(0, 0, 0, 0.15);\n",
              "      filter: drop-shadow(0px 1px 2px rgba(0, 0, 0, 0.3));\n",
              "      fill: #FFFFFF;\n",
              "    }\n",
              "  </style>\n",
              "\n",
              "    <script>\n",
              "      const buttonEl =\n",
              "        document.querySelector('#df-ba247ae5-5aea-4143-bd3b-69e0a38549c5 button.colab-df-convert');\n",
              "      buttonEl.style.display =\n",
              "        google.colab.kernel.accessAllowed ? 'block' : 'none';\n",
              "\n",
              "      async function convertToInteractive(key) {\n",
              "        const element = document.querySelector('#df-ba247ae5-5aea-4143-bd3b-69e0a38549c5');\n",
              "        const dataTable =\n",
              "          await google.colab.kernel.invokeFunction('convertToInteractive',\n",
              "                                                    [key], {});\n",
              "        if (!dataTable) return;\n",
              "\n",
              "        const docLinkHtml = 'Like what you see? Visit the ' +\n",
              "          '<a target=\"_blank\" href=https://colab.research.google.com/notebooks/data_table.ipynb>data table notebook</a>'\n",
              "          + ' to learn more about interactive tables.';\n",
              "        element.innerHTML = '';\n",
              "        dataTable['output_type'] = 'display_data';\n",
              "        await google.colab.output.renderOutput(dataTable, element);\n",
              "        const docLink = document.createElement('div');\n",
              "        docLink.innerHTML = docLinkHtml;\n",
              "        element.appendChild(docLink);\n",
              "      }\n",
              "    </script>\n",
              "  </div>\n",
              "\n",
              "\n",
              "<div id=\"df-1be3ce49-36ff-4c50-ad30-4c32ea543c46\">\n",
              "  <button class=\"colab-df-quickchart\" onclick=\"quickchart('df-1be3ce49-36ff-4c50-ad30-4c32ea543c46')\"\n",
              "            title=\"Suggest charts\"\n",
              "            style=\"display:none;\">\n",
              "\n",
              "<svg xmlns=\"http://www.w3.org/2000/svg\" height=\"24px\"viewBox=\"0 0 24 24\"\n",
              "     width=\"24px\">\n",
              "    <g>\n",
              "        <path d=\"M19 3H5c-1.1 0-2 .9-2 2v14c0 1.1.9 2 2 2h14c1.1 0 2-.9 2-2V5c0-1.1-.9-2-2-2zM9 17H7v-7h2v7zm4 0h-2V7h2v10zm4 0h-2v-4h2v4z\"/>\n",
              "    </g>\n",
              "</svg>\n",
              "  </button>\n",
              "\n",
              "<style>\n",
              "  .colab-df-quickchart {\n",
              "      --bg-color: #E8F0FE;\n",
              "      --fill-color: #1967D2;\n",
              "      --hover-bg-color: #E2EBFA;\n",
              "      --hover-fill-color: #174EA6;\n",
              "      --disabled-fill-color: #AAA;\n",
              "      --disabled-bg-color: #DDD;\n",
              "  }\n",
              "\n",
              "  [theme=dark] .colab-df-quickchart {\n",
              "      --bg-color: #3B4455;\n",
              "      --fill-color: #D2E3FC;\n",
              "      --hover-bg-color: #434B5C;\n",
              "      --hover-fill-color: #FFFFFF;\n",
              "      --disabled-bg-color: #3B4455;\n",
              "      --disabled-fill-color: #666;\n",
              "  }\n",
              "\n",
              "  .colab-df-quickchart {\n",
              "    background-color: var(--bg-color);\n",
              "    border: none;\n",
              "    border-radius: 50%;\n",
              "    cursor: pointer;\n",
              "    display: none;\n",
              "    fill: var(--fill-color);\n",
              "    height: 32px;\n",
              "    padding: 0;\n",
              "    width: 32px;\n",
              "  }\n",
              "\n",
              "  .colab-df-quickchart:hover {\n",
              "    background-color: var(--hover-bg-color);\n",
              "    box-shadow: 0 1px 2px rgba(60, 64, 67, 0.3), 0 1px 3px 1px rgba(60, 64, 67, 0.15);\n",
              "    fill: var(--button-hover-fill-color);\n",
              "  }\n",
              "\n",
              "  .colab-df-quickchart-complete:disabled,\n",
              "  .colab-df-quickchart-complete:disabled:hover {\n",
              "    background-color: var(--disabled-bg-color);\n",
              "    fill: var(--disabled-fill-color);\n",
              "    box-shadow: none;\n",
              "  }\n",
              "\n",
              "  .colab-df-spinner {\n",
              "    border: 2px solid var(--fill-color);\n",
              "    border-color: transparent;\n",
              "    border-bottom-color: var(--fill-color);\n",
              "    animation:\n",
              "      spin 1s steps(1) infinite;\n",
              "  }\n",
              "\n",
              "  @keyframes spin {\n",
              "    0% {\n",
              "      border-color: transparent;\n",
              "      border-bottom-color: var(--fill-color);\n",
              "      border-left-color: var(--fill-color);\n",
              "    }\n",
              "    20% {\n",
              "      border-color: transparent;\n",
              "      border-left-color: var(--fill-color);\n",
              "      border-top-color: var(--fill-color);\n",
              "    }\n",
              "    30% {\n",
              "      border-color: transparent;\n",
              "      border-left-color: var(--fill-color);\n",
              "      border-top-color: var(--fill-color);\n",
              "      border-right-color: var(--fill-color);\n",
              "    }\n",
              "    40% {\n",
              "      border-color: transparent;\n",
              "      border-right-color: var(--fill-color);\n",
              "      border-top-color: var(--fill-color);\n",
              "    }\n",
              "    60% {\n",
              "      border-color: transparent;\n",
              "      border-right-color: var(--fill-color);\n",
              "    }\n",
              "    80% {\n",
              "      border-color: transparent;\n",
              "      border-right-color: var(--fill-color);\n",
              "      border-bottom-color: var(--fill-color);\n",
              "    }\n",
              "    90% {\n",
              "      border-color: transparent;\n",
              "      border-bottom-color: var(--fill-color);\n",
              "    }\n",
              "  }\n",
              "</style>\n",
              "\n",
              "  <script>\n",
              "    async function quickchart(key) {\n",
              "      const quickchartButtonEl =\n",
              "        document.querySelector('#' + key + ' button');\n",
              "      quickchartButtonEl.disabled = true;  // To prevent multiple clicks.\n",
              "      quickchartButtonEl.classList.add('colab-df-spinner');\n",
              "      try {\n",
              "        const charts = await google.colab.kernel.invokeFunction(\n",
              "            'suggestCharts', [key], {});\n",
              "      } catch (error) {\n",
              "        console.error('Error during call to suggestCharts:', error);\n",
              "      }\n",
              "      quickchartButtonEl.classList.remove('colab-df-spinner');\n",
              "      quickchartButtonEl.classList.add('colab-df-quickchart-complete');\n",
              "    }\n",
              "    (() => {\n",
              "      let quickchartButtonEl =\n",
              "        document.querySelector('#df-1be3ce49-36ff-4c50-ad30-4c32ea543c46 button');\n",
              "      quickchartButtonEl.style.display =\n",
              "        google.colab.kernel.accessAllowed ? 'block' : 'none';\n",
              "    })();\n",
              "  </script>\n",
              "</div>\n",
              "\n",
              "    </div>\n",
              "  </div>\n"
            ],
            "application/vnd.google.colaboratory.intrinsic+json": {
              "type": "dataframe",
              "variable_name": "df",
              "summary": "{\n  \"name\": \"df\",\n  \"rows\": 1200,\n  \"fields\": [\n    {\n      \"column\": \"id\",\n      \"properties\": {\n        \"dtype\": \"number\",\n        \"std\": 346,\n        \"min\": 1,\n        \"max\": 1200,\n        \"num_unique_values\": 1200,\n        \"samples\": [\n          1179,\n          866,\n          102\n        ],\n        \"semantic_type\": \"\",\n        \"description\": \"\"\n      }\n    },\n    {\n      \"column\": \"release_date\",\n      \"properties\": {\n        \"dtype\": \"date\",\n        \"min\": \"2020-01-01 00:00:00\",\n        \"max\": \"2023-12-12 00:00:00\",\n        \"num_unique_values\": 808,\n        \"samples\": [\n          \"2022-03-08 00:00:00\",\n          \"2023-08-31 00:00:00\",\n          \"2022-03-05 00:00:00\"\n        ],\n        \"semantic_type\": \"\",\n        \"description\": \"\"\n      }\n    },\n    {\n      \"column\": \"debit_account\",\n      \"properties\": {\n        \"dtype\": \"string\",\n        \"num_unique_values\": 1200,\n        \"samples\": [\n          \"D85MCV\",\n          \"DDC7G7\",\n          \"DER6WK\"\n        ],\n        \"semantic_type\": \"\",\n        \"description\": \"\"\n      }\n    },\n    {\n      \"column\": \"credit_account\",\n      \"properties\": {\n        \"dtype\": \"string\",\n        \"num_unique_values\": 1197,\n        \"samples\": [\n          \"CLMYB9\",\n          \"C0MR3B\",\n          \"CNL7TZ\"\n        ],\n        \"semantic_type\": \"\",\n        \"description\": \"\"\n      }\n    },\n    {\n      \"column\": \"amount\",\n      \"properties\": {\n        \"dtype\": \"number\",\n        \"std\": 25595.942954667833,\n        \"min\": 105.41,\n        \"max\": 187297.68604092003,\n        \"num_unique_values\": 1199,\n        \"samples\": [\n          9451.79,\n          6042.11,\n          2773.08\n        ],\n        \"semantic_type\": \"\",\n        \"description\": \"\"\n      }\n    },\n    {\n      \"column\": \"document\",\n      \"properties\": {\n        \"dtype\": \"string\",\n        \"num_unique_values\": 1079,\n        \"samples\": [\n          \"DOCQ2HAT\",\n          \"DOC8SH2U\",\n          \"DOCA6HJ1\"\n        ],\n        \"semantic_type\": \"\",\n        \"description\": \"\"\n      }\n    },\n    {\n      \"column\": \"operation_nature\",\n      \"properties\": {\n        \"dtype\": \"string\",\n        \"num_unique_values\": 1080,\n        \"samples\": [\n          \"OPWMO5T\",\n          \"OP4DL57\",\n          \"OP27H2G\"\n        ],\n        \"semantic_type\": \"\",\n        \"description\": \"\"\n      }\n    },\n    {\n      \"column\": \"cost_center\",\n      \"properties\": {\n        \"dtype\": \"string\",\n        \"num_unique_values\": 1200,\n        \"samples\": [\n          \"CCV3BS4\",\n          \"CCFPZV0\",\n          \"CCODCW9\"\n        ],\n        \"semantic_type\": \"\",\n        \"description\": \"\"\n      }\n    },\n    {\n      \"column\": \"taxes\",\n      \"properties\": {\n        \"dtype\": \"number\",\n        \"std\": 1030.7182684646011,\n        \"min\": 154.26397977720023,\n        \"max\": 6779.970521973589,\n        \"num_unique_values\": 10,\n        \"samples\": [\n          2220.1702370673083,\n          471.092359509024,\n          6779.970521973589\n        ],\n        \"semantic_type\": \"\",\n        \"description\": \"\"\n      }\n    },\n    {\n      \"column\": \"currency\",\n      \"properties\": {\n        \"dtype\": \"category\",\n        \"num_unique_values\": 4,\n        \"samples\": [\n          \"EUR\",\n          \"USD\",\n          \"BRL\"\n        ],\n        \"semantic_type\": \"\",\n        \"description\": \"\"\n      }\n    },\n    {\n      \"column\": \"conversion_rate\",\n      \"properties\": {\n        \"dtype\": \"category\",\n        \"num_unique_values\": 6,\n        \"samples\": [\n          3.475605626193917,\n          3.523286759155978,\n          1.2480290666241416\n        ],\n        \"semantic_type\": \"\",\n        \"description\": \"\"\n      }\n    }\n  ]\n}"
            }
          },
          "metadata": {},
          "execution_count": 32
        }
      ],
      "source": [
        "df.head()"
      ]
    },
    {
      "cell_type": "markdown",
      "metadata": {
        "id": "DCQV1xUEGIyT"
      },
      "source": [
        "**3. Handling Missing Values When They Don’t Appear as Missing**\n",
        "\n",
        "Sometimes, missing values may be disguised as placeholders like 'N/A', '?', 'Unknown', or even '0' in contexts where '0' is not a valid value. Identify these cases and treat them as missing values.\n"
      ]
    },
    {
      "cell_type": "code",
      "execution_count": 33,
      "metadata": {
        "colab": {
          "base_uri": "https://localhost:8080/"
        },
        "id": "xPBKNp-xGIyT",
        "outputId": "9bff6d4a-b96e-47d5-dd18-b20c779bc585"
      },
      "outputs": [
        {
          "output_type": "stream",
          "name": "stdout",
          "text": [
            "True\n"
          ]
        }
      ],
      "source": [
        "# 34. Checking for the '?' character in the 'credit_account' column (Method 1)\n",
        "has_question_mark = df['credit_account'].isin(['?']).any()\n",
        "print(has_question_mark)\n"
      ]
    },
    {
      "cell_type": "code",
      "execution_count": 34,
      "metadata": {
        "colab": {
          "base_uri": "https://localhost:8080/"
        },
        "id": "ODO-PeqyGIyT",
        "outputId": "0c4db1a5-55b0-4299-a077-69d252cf654e"
      },
      "outputs": [
        {
          "output_type": "stream",
          "name": "stdout",
          "text": [
            "4\n"
          ]
        }
      ],
      "source": [
        "# 35. Counting the frequency of each value in the 'credit_account' column (Method 2)\n",
        "value_counts = df['credit_account'].value_counts()\n",
        "\n",
        "# Checking if '?' is in the counts and getting its number of occurrences\n",
        "question_mark_count = value_counts.get('?', 0)\n",
        "\n",
        "# Print the number of occurrences of '?'\n",
        "print(question_mark_count)\n"
      ]
    },
    {
      "cell_type": "code",
      "execution_count": 35,
      "metadata": {
        "colab": {
          "base_uri": "https://localhost:8080/"
        },
        "id": "ZwsJIB_gGIyT",
        "outputId": "1272b097-a443-4475-af6b-505bc8533a1d"
      },
      "outputs": [
        {
          "output_type": "stream",
          "name": "stdout",
          "text": [
            "Does the column 'debit_account' contain '?'? False\n",
            "Does the column 'credit_account' contain '?'? True\n",
            "Does the column 'document' contain '?'? False\n",
            "Does the column 'operation_nature' contain '?'? False\n",
            "Does the column 'cost_center' contain '?'? False\n",
            "Does the column 'currency' contain '?'? False\n",
            "Does the column 'conversion_rate' contain '?'? False\n"
          ]
        }
      ],
      "source": [
        "# 36. Identifying categorical columns (Method 3)\n",
        "categorical_columns = df.select_dtypes(include=['object', 'category']).columns\n",
        "\n",
        "# Check for the presence of '?' in each categorical column\n",
        "for column in categorical_columns:\n",
        "    has_question_mark = df[column].isin(['?']).any()\n",
        "    print(f\"Does the column '{column}' contain '?'? {has_question_mark}\")"
      ]
    },
    {
      "cell_type": "code",
      "execution_count": 36,
      "metadata": {
        "id": "vEEZCUKWGIyT"
      },
      "outputs": [],
      "source": [
        "# 37. Replacing '?' with NaN and then filling missing values\n",
        "df['credit_account'].replace('?', np.nan, inplace=True)\n",
        "\n",
        "# This method fills each missing value with the previous valid value in the same column (forward fill)\n",
        "df['credit_account'].fillna(method='ffill', inplace=True)"
      ]
    },
    {
      "cell_type": "code",
      "execution_count": 37,
      "metadata": {
        "colab": {
          "base_uri": "https://localhost:8080/"
        },
        "id": "v478mTabGIyT",
        "outputId": "1ddb3200-9044-4e7e-b125-743f55620bc2"
      },
      "outputs": [
        {
          "output_type": "execute_result",
          "data": {
            "text/plain": [
              "0"
            ]
          },
          "metadata": {},
          "execution_count": 37
        }
      ],
      "source": [
        "# 38. Are there missing values in 'credit_account'?\n",
        "df['credit_account'].isna().sum()"
      ]
    },
    {
      "cell_type": "code",
      "execution_count": 38,
      "metadata": {
        "colab": {
          "base_uri": "https://localhost:8080/",
          "height": 500
        },
        "id": "D7-OCkDpGIyT",
        "outputId": "eb534aa6-23b1-47b8-9a3c-3a0218024ce6"
      },
      "outputs": [
        {
          "output_type": "execute_result",
          "data": {
            "text/plain": [
              "id                  0\n",
              "release_date        0\n",
              "debit_account       0\n",
              "credit_account      0\n",
              "amount              0\n",
              "document            0\n",
              "operation_nature    0\n",
              "cost_center         0\n",
              "taxes               0\n",
              "currency            0\n",
              "conversion_rate     0\n",
              "dtype: int64"
            ],
            "text/html": [
              "<div>\n",
              "<style scoped>\n",
              "    .dataframe tbody tr th:only-of-type {\n",
              "        vertical-align: middle;\n",
              "    }\n",
              "\n",
              "    .dataframe tbody tr th {\n",
              "        vertical-align: top;\n",
              "    }\n",
              "\n",
              "    .dataframe thead th {\n",
              "        text-align: right;\n",
              "    }\n",
              "</style>\n",
              "<table border=\"1\" class=\"dataframe\">\n",
              "  <thead>\n",
              "    <tr style=\"text-align: right;\">\n",
              "      <th></th>\n",
              "      <th>0</th>\n",
              "    </tr>\n",
              "  </thead>\n",
              "  <tbody>\n",
              "    <tr>\n",
              "      <th>id</th>\n",
              "      <td>0</td>\n",
              "    </tr>\n",
              "    <tr>\n",
              "      <th>release_date</th>\n",
              "      <td>0</td>\n",
              "    </tr>\n",
              "    <tr>\n",
              "      <th>debit_account</th>\n",
              "      <td>0</td>\n",
              "    </tr>\n",
              "    <tr>\n",
              "      <th>credit_account</th>\n",
              "      <td>0</td>\n",
              "    </tr>\n",
              "    <tr>\n",
              "      <th>amount</th>\n",
              "      <td>0</td>\n",
              "    </tr>\n",
              "    <tr>\n",
              "      <th>document</th>\n",
              "      <td>0</td>\n",
              "    </tr>\n",
              "    <tr>\n",
              "      <th>operation_nature</th>\n",
              "      <td>0</td>\n",
              "    </tr>\n",
              "    <tr>\n",
              "      <th>cost_center</th>\n",
              "      <td>0</td>\n",
              "    </tr>\n",
              "    <tr>\n",
              "      <th>taxes</th>\n",
              "      <td>0</td>\n",
              "    </tr>\n",
              "    <tr>\n",
              "      <th>currency</th>\n",
              "      <td>0</td>\n",
              "    </tr>\n",
              "    <tr>\n",
              "      <th>conversion_rate</th>\n",
              "      <td>0</td>\n",
              "    </tr>\n",
              "  </tbody>\n",
              "</table>\n",
              "</div><br><label><b>dtype:</b> int64</label>"
            ]
          },
          "metadata": {},
          "execution_count": 38
        }
      ],
      "source": [
        "# 39. Are there missing values?\n",
        "df.isna().sum()"
      ]
    },
    {
      "cell_type": "markdown",
      "metadata": {
        "id": "BkbCjxJLGIyT"
      },
      "source": [
        "## **Outlier Treatment**\n"
      ]
    },
    {
      "cell_type": "markdown",
      "metadata": {
        "id": "cx8JNRlVGIyT"
      },
      "source": [
        "> We will apply outlier treatment to the \"amount\" and \"taxes\" variables.\n"
      ]
    },
    {
      "cell_type": "code",
      "execution_count": 39,
      "metadata": {
        "colab": {
          "base_uri": "https://localhost:8080/",
          "height": 488
        },
        "id": "FUTJRIyJGIyT",
        "outputId": "5deebac7-5414-43a3-dd7b-ca67e7bce2cc"
      },
      "outputs": [
        {
          "output_type": "display_data",
          "data": {
            "text/plain": [
              "<Figure size 800x500 with 1 Axes>"
            ],
            "image/png": "[encoded data removed]"
          },
          "metadata": {}
        }
      ],
      "source": [
        "# 40. Boxplot of Transaction Values\n",
        "plt.figure(figsize=(8, 5))\n",
        "sns.boxplot(x=df['amount'])\n",
        "plt.title('Boxplot of Values')\n",
        "plt.xlabel('Values')\n",
        "plt.show()"
      ]
    },
    {
      "cell_type": "code",
      "execution_count": 40,
      "metadata": {
        "id": "dCHsa_j3GIyU"
      },
      "outputs": [],
      "source": [
        "# 41. Outlier treatment for the 'amount' variable\n",
        "\n",
        "# Calculating Q1 and Q3\n",
        "Q1 = df['amount'].quantile(0.25)\n",
        "Q3 = df['amount'].quantile(0.75)\n",
        "\n",
        "# Calculating IQR\n",
        "IQR = Q3 - Q1\n",
        "\n",
        "# Setting limits to identify outliers\n",
        "lower_limit = Q1 - 1.5 * IQR\n",
        "upper_limit = Q3 + 1.5 * IQR\n",
        "\n",
        "# Filtering out the outliers\n",
        "df_filtered_1 = df[~((df['amount'] < lower_limit) | (df['amount'] > upper_limit))]"
      ]
    },
    {
      "cell_type": "code",
      "execution_count": 41,
      "metadata": {
        "colab": {
          "base_uri": "https://localhost:8080/",
          "height": 488
        },
        "id": "Yp1dPqfgGIyU",
        "outputId": "ad9c74f1-4274-4923-bdeb-0ec34f681d9e"
      },
      "outputs": [
        {
          "output_type": "display_data",
          "data": {
            "text/plain": [
              "<Figure size 800x500 with 1 Axes>"
            ],
            "image/png": "[encoded data removed]"
          },
          "metadata": {}
        }
      ],
      "source": [
        "# 42. Boxplot of Transaction Values (after filtering outliers)\n",
        "plt.figure(figsize=(8, 5))\n",
        "sns.boxplot(x=df_filtered_1['amount'])\n",
        "plt.title('Boxplot of Values')\n",
        "plt.xlabel('Values')\n",
        "plt.show()"
      ]
    },
    {
      "cell_type": "code",
      "execution_count": 42,
      "metadata": {
        "colab": {
          "base_uri": "https://localhost:8080/",
          "height": 488
        },
        "id": "oAUZexZEGIyU",
        "outputId": "33246a14-b1a6-4867-c7e0-4e4798e12f14"
      },
      "outputs": [
        {
          "output_type": "display_data",
          "data": {
            "text/plain": [
              "<Figure size 800x500 with 1 Axes>"
            ],
            "image/png": "[encoded data removed]"
          },
          "metadata": {}
        }
      ],
      "source": [
        "# 43. Boxplot of Taxes\n",
        "plt.figure(figsize=(8, 5))\n",
        "sns.boxplot(x=df['taxes'])\n",
        "plt.title('Boxplot of Taxes')\n",
        "plt.xlabel('Taxes')\n",
        "plt.show()"
      ]
    },
    {
      "cell_type": "code",
      "execution_count": 43,
      "metadata": {
        "id": "4JYrHalPGIyU"
      },
      "outputs": [],
      "source": [
        "# 44. Outlier treatment for the 'taxes' variable\n",
        "\n",
        "# Calculating Q1 and Q3\n",
        "Q1 = df['taxes'].quantile(0.25)\n",
        "Q3 = df['taxes'].quantile(0.75)\n",
        "\n",
        "# Calculating IQR\n",
        "IQR = Q3 - Q1\n",
        "\n",
        "# Setting limits to identify outliers\n",
        "lower_limit = Q1 - 1.5 * IQR\n",
        "upper_limit = Q3 + 1.5 * IQR\n",
        "\n",
        "# Filtering out the outliers\n",
        "df_filtered_2 = df_filtered_1[~((df_filtered_1['taxes'] < lower_limit) | (df_filtered_1['taxes'] > upper_limit))]\n"
      ]
    },
    {
      "cell_type": "code",
      "execution_count": 44,
      "metadata": {
        "colab": {
          "base_uri": "https://localhost:8080/",
          "height": 488
        },
        "id": "0HE31ShFGIyU",
        "outputId": "b6a5f687-f356-4297-a5c2-22799eeb9ee2"
      },
      "outputs": [
        {
          "output_type": "display_data",
          "data": {
            "text/plain": [
              "<Figure size 800x500 with 1 Axes>"
            ],
            "image/png": "[encoded data removed]"
          },
          "metadata": {}
        }
      ],
      "source": [
        "# 45. Boxplot of Taxes (after filtering outliers)\n",
        "plt.figure(figsize=(8, 5))\n",
        "sns.boxplot(x=df_filtered_2['taxes'])\n",
        "plt.title('Boxplot of Taxes')\n",
        "plt.xlabel('Taxes')\n",
        "plt.show()"
      ]
    },
    {
      "cell_type": "markdown",
      "metadata": {
        "id": "LW16_1o1GIyU"
      },
      "source": [
        "## **Exploratory Analysis After Cleaning**\n",
        "\n",
        "### **Univariate Exploratory Analysis**\n"
      ]
    },
    {
      "cell_type": "code",
      "execution_count": 45,
      "metadata": {
        "colab": {
          "base_uri": "https://localhost:8080/"
        },
        "id": "ciu8HxS1GIyU",
        "outputId": "799360a2-95fb-4a54-bbbb-48a39d5b1e1b"
      },
      "outputs": [
        {
          "output_type": "stream",
          "name": "stdout",
          "text": [
            "<class 'pandas.core.frame.DataFrame'>\n",
            "Index: 1097 entries, 0 to 1199\n",
            "Data columns (total 11 columns):\n",
            " #   Column            Non-Null Count  Dtype         \n",
            "---  ------            --------------  -----         \n",
            " 0   id                1097 non-null   int64         \n",
            " 1   release_date      1097 non-null   datetime64[ns]\n",
            " 2   debit_account     1097 non-null   object        \n",
            " 3   credit_account    1097 non-null   object        \n",
            " 4   amount            1097 non-null   float64       \n",
            " 5   document          1097 non-null   object        \n",
            " 6   operation_nature  1097 non-null   object        \n",
            " 7   cost_center       1097 non-null   object        \n",
            " 8   taxes             1097 non-null   float64       \n",
            " 9   currency          1097 non-null   object        \n",
            " 10  conversion_rate   1097 non-null   object        \n",
            "dtypes: datetime64[ns](1), float64(2), int64(1), object(7)\n",
            "memory usage: 102.8+ KB\n"
          ]
        }
      ],
      "source": [
        "# 46. Dataset info after cleaning\n",
        "df_filtered_2.info()"
      ]
    },
    {
      "cell_type": "markdown",
      "metadata": {
        "id": "9NEvJLvXGIyU"
      },
      "source": [
        "### **Analyzing and Interpreting Histograms**"
      ]
    },
    {
      "cell_type": "code",
      "execution_count": 46,
      "metadata": {
        "colab": {
          "base_uri": "https://localhost:8080/",
          "height": 573
        },
        "id": "LMO06VWrGIyU",
        "outputId": "351c9764-fe1f-4cc3-ad26-c0e9ad25ad22"
      },
      "outputs": [
        {
          "output_type": "display_data",
          "data": {
            "text/plain": [
              "<Figure size 1000x600 with 1 Axes>"
            ],
            "image/png": "[encoded data removed]"
          },
          "metadata": {}
        }
      ],
      "source": [
        "# 47. Setting seaborn style\n",
        "sns.set(style=\"whitegrid\")\n",
        "\n",
        "# Creating a histogram for the 'amount' column\n",
        "plt.figure(figsize=(10, 6))\n",
        "sns.histplot(df_filtered_2['amount'], kde=True, bins=30)\n",
        "plt.title('Distribution of Transaction Values')\n",
        "plt.xlabel('Values')\n",
        "plt.ylabel('Frequency')\n",
        "plt.show()"
      ]
    },
    {
      "cell_type": "code",
      "execution_count": 47,
      "metadata": {
        "colab": {
          "base_uri": "https://localhost:8080/",
          "height": 573
        },
        "id": "ICmJYxQpGIyU",
        "outputId": "881ed2a9-ab46-42a3-b1c4-b29709f18de5"
      },
      "outputs": [
        {
          "output_type": "display_data",
          "data": {
            "text/plain": [
              "<Figure size 1000x600 with 1 Axes>"
            ],
            "image/png": "[encoded data removed]"
          },
          "metadata": {}
        }
      ],
      "source": [
        "# 48. Setting seaborn style\n",
        "sns.set(style=\"whitegrid\")\n",
        "\n",
        "# Creating a histogram for the 'taxes' column\n",
        "plt.figure(figsize=(10, 6))\n",
        "sns.histplot(df_filtered_2['taxes'], kde=True, bins=30)\n",
        "plt.title('Distribution of Taxes')\n",
        "plt.xlabel('Taxes')\n",
        "plt.ylabel('Frequency')\n",
        "plt.show()"
      ]
    },
    {
      "cell_type": "code",
      "source": [
        "# 48. Setting seaborn style\n",
        "sns.set(style=\"whitegrid\")\n",
        "\n",
        "# Creating a histogram for the 'taxes' column\n",
        "plt.figure(figsize=(10, 6))\n",
        "sns.histplot(df_filtered_2['taxes'], kde=True, bins=15)\n",
        "plt.title('Distribution of Taxes')\n",
        "plt.xlabel('Taxes')\n",
        "plt.ylabel('Frequency')\n",
        "plt.show()"
      ],
      "metadata": {
        "colab": {
          "base_uri": "https://localhost:8080/",
          "height": 573
        },
        "id": "7ZFLl8pBqfj2",
        "outputId": "bbb0b8dc-3d44-4d21-f5fa-e535542fbab0"
      },
      "execution_count": 48,
      "outputs": [
        {
          "output_type": "display_data",
          "data": {
            "text/plain": [
              "<Figure size 1000x600 with 1 Axes>"
            ],
            "image/png": "[encoded data removed]"
          },
          "metadata": {}
        }
      ]
    },
    {
      "cell_type": "markdown",
      "metadata": {
        "id": "19HqVLQFGIyV"
      },
      "source": [
        "**Histogram Interpretation**:\n",
        "\n",
        "Interpreting a histogram is essential for understanding the data distribution. A histogram is a chart that shows the frequency with which values in a dataset occur within specific intervals or 'bins'. Here are the steps to interpret it:\n",
        "\n",
        "**1. Observe the Overall Shape**\n",
        "\n",
        "The shape of the histogram can reveal a lot about the nature of the data.\n",
        "\n",
        "Symmetrical Distribution: If the chart is symmetrical around a central value, it indicates a normal or nearly normal distribution.\n",
        "\n",
        "Skewed Distribution: If the tail of the chart extends more to the left or right, it indicates skewness. Skewness to the left indicates negative skewness; skewness to the right indicates positive skewness.\n"
      ]
    },
    {
      "cell_type": "code",
      "execution_count": 49,
      "metadata": {
        "id": "EinMkuvyGIyV"
      },
      "outputs": [],
      "source": [
        "# 49. Importing skew function from scipy.stats\n",
        "from scipy.stats import skew"
      ]
    },
    {
      "cell_type": "code",
      "execution_count": 50,
      "metadata": {
        "colab": {
          "base_uri": "https://localhost:8080/"
        },
        "id": "iHNBHxZbGIyV",
        "outputId": "147b89a5-e955-40fb-bbd2-490b3ec3e3c4"
      },
      "outputs": [
        {
          "output_type": "stream",
          "name": "stdout",
          "text": [
            "The skewness of the distribution of values is: 0.09784439352386005\n"
          ]
        }
      ],
      "source": [
        "# 50. Calculating skewness\n",
        "skewness = skew(df_filtered_2['amount'])\n",
        "print(f\"The skewness of the distribution of values is: {skewness}\")"
      ]
    },
    {
      "cell_type": "code",
      "execution_count": 51,
      "metadata": {
        "colab": {
          "base_uri": "https://localhost:8080/"
        },
        "id": "xNV9Zu_DGIyV",
        "outputId": "bccb748b-c98c-47b4-bea7-f27a4b4c2027"
      },
      "outputs": [
        {
          "output_type": "stream",
          "name": "stdout",
          "text": [
            "The skewness of the distribution of taxes is: -1.2735246899435217\n"
          ]
        }
      ],
      "source": [
        "# 51. Calculating skewness\n",
        "skewness = skew(df_filtered_2['taxes'])\n",
        "print(f\"The skewness of the distribution of taxes is: {skewness}\")"
      ]
    },
    {
      "cell_type": "markdown",
      "metadata": {
        "id": "kaG_ZiQMGIyV"
      },
      "source": [
        "- A skewness value of zero suggests that the distribution is perfectly symmetrical.\n",
        "- A positive skewness value indicates a distribution with a heavier tail to the right.\n",
        "- A negative skewness value indicates a distribution with a heavier tail to the left.\n"
      ]
    },
    {
      "cell_type": "markdown",
      "metadata": {
        "id": "qXcx3G8EGIyV"
      },
      "source": [
        "**2. Identify Peaks and Valleys**\n",
        "\n",
        "Presence of multiple peaks: This may indicate that the data has multiple groups or modes.\n",
        "\n",
        "Peaks (Modes): The highest points of the histogram are the modes, indicating the most common values in the data.\n",
        "Valleys: These are the areas between peaks, which may indicate a separation between different groups in the data.\n",
        "\n",
        "**3. Check the Bin Width**\n",
        "\n",
        "The width of the intervals (bins) can affect the appearance of the histogram. Very wide bins can hide important details, while very narrow bins can show too much random variation.\n",
        "\n",
        "**4. Observe Outliers**\n",
        "\n",
        "Outliers may appear as isolated bars distant from the rest of the data, indicating atypical values.\n",
        "\n",
        "**5. Analyze the X and Y Axes**\n",
        "\n",
        "- X-axis (horizontal): Shows the value intervals of the data.\n",
        "- Y-axis (vertical): Shows the frequency or count of occurrences in each bin.\n"
      ]
    },
    {
      "cell_type": "markdown",
      "source": [
        "----"
      ],
      "metadata": {
        "id": "xN0eHTqIOxqA"
      }
    },
    {
      "cell_type": "markdown",
      "metadata": {
        "id": "EjSdtVc0GIyV"
      },
      "source": [
        "### **Analyzing and Interpreting Boxplots**"
      ]
    },
    {
      "cell_type": "code",
      "execution_count": 52,
      "metadata": {
        "id": "8tdUHWZ7GIyV",
        "outputId": "ae354c23-e9bf-472a-87d7-29e363769d7d",
        "colab": {
          "base_uri": "https://localhost:8080/",
          "height": 496
        }
      },
      "outputs": [
        {
          "output_type": "display_data",
          "data": {
            "text/plain": [
              "<Figure size 800x500 with 1 Axes>"
            ],
            "image/png": "[encoded data removed]"
          },
          "metadata": {}
        }
      ],
      "source": [
        "# 52. Boxplot of Values\n",
        "plt.figure(figsize=(8, 5))\n",
        "sns.boxplot(x=df_filtered_2['amount'])\n",
        "plt.title('Boxplot of Values')\n",
        "plt.xlabel('Values')\n",
        "plt.show()\n"
      ]
    },
    {
      "cell_type": "code",
      "execution_count": 53,
      "metadata": {
        "id": "zDgJo9z2GIyV",
        "outputId": "8bbb2677-fde6-4cd1-f321-75f62525a294",
        "colab": {
          "base_uri": "https://localhost:8080/",
          "height": 496
        }
      },
      "outputs": [
        {
          "output_type": "display_data",
          "data": {
            "text/plain": [
              "<Figure size 800x500 with 1 Axes>"
            ],
            "image/png": "[encoded data removed]"
          },
          "metadata": {}
        }
      ],
      "source": [
        "# 53. Boxplot of Taxes\n",
        "plt.figure(figsize=(8, 5))\n",
        "sns.boxplot(x=df_filtered_2['taxes'])\n",
        "plt.title('Boxplot of Taxes')\n",
        "plt.xlabel('Taxes')\n",
        "plt.show()\n"
      ]
    },
    {
      "cell_type": "markdown",
      "metadata": {
        "id": "D2ILDE0VGIyV"
      },
      "source": [
        "**Boxplot Interpretation:**\n",
        "\n",
        "Interpreting a boxplot, also known as a box-and-whisker plot, is essential to understand the data’s distribution, central tendency, and variability. The boxplot provides a concise visual representation that highlights the quartiles and outliers within the data. Here are the main components of a boxplot and how to interpret them:\n",
        "\n",
        "**1. Quartiles**\n",
        "\n",
        "The boxplot is divided into quartiles:\n",
        "\n",
        "- **Q1 (First Quartile):** Represents the value below which 25% of the data lies.\n",
        "- **Q2 (Median):** Divides the data in half, with 50% of values below and 50% above it.\n",
        "- **Q3 (Third Quartile):** Represents the value below which 75% of the data lies.\n",
        "\n",
        "**2. Interquartile Range (IQR)**\n",
        "\n",
        "The **IQR** is the distance between Q1 and Q3. It represents the range of the central 50% of the data. A larger IQR indicates greater spread within this central portion.\n",
        "\n",
        "**3. Whiskers**\n",
        "\n",
        "The \"whiskers\" extend from Q1 and Q3 to show the variation outside the central 50%. Typically, they extend up to 1.5 * IQR above Q3 and below Q1.\n",
        "\n",
        "Data points beyond the whiskers are considered potential outliers.\n",
        "\n",
        "**4. Outliers**\n",
        "\n",
        "Outliers are data points that fall outside the whiskers. These are often represented as individual dots or circles on the plot.\n",
        "\n",
        "**5. Symmetry**\n",
        "\n",
        "If the median is centered within the box and the whiskers are similar in length, the data is more symmetrical.\n",
        "\n",
        "If the median is closer to Q1 or Q3, or if one whisker is significantly longer, the data is skewed.\n",
        "\n",
        "A longer box indicates greater variability in the central data. The presence of outliers may suggest extreme variations or issues with the data."
      ]
    },
    {
      "cell_type": "markdown",
      "metadata": {
        "id": "RF5fY4VcGIyW"
      },
      "source": [
        "### **Multivariate Exploratory Analysis**"
      ]
    },
    {
      "cell_type": "markdown",
      "metadata": {
        "id": "0x6PUq26GIyW"
      },
      "source": [
        "### **Analyzing and Interpreting Correlation Maps**"
      ]
    },
    {
      "cell_type": "code",
      "execution_count": 54,
      "metadata": {
        "id": "83TcalgiGIyW",
        "outputId": "6ed28daf-3000-40de-88b0-0c7d5fb9b0f2",
        "colab": {
          "base_uri": "https://localhost:8080/",
          "height": 258
        }
      },
      "outputs": [
        {
          "output_type": "execute_result",
          "data": {
            "text/plain": [
              "   id release_date debit_account credit_account   amount  document  \\\n",
              "0   1   2022-02-27        DWAVRL         CIOVQ6  5533.25  DOCPAXGQ   \n",
              "1   2   2022-05-11        D8TF53         CV9Y0V  7180.37  DOCBXZXG   \n",
              "2   3   2020-03-23        D0TZCE         CELQSH  6067.36  DOCF5ITC   \n",
              "3   4   2021-06-14        DOGLK7         CDFEMS  5494.34  DOCZRS1U   \n",
              "4   5   2022-11-13        DHL0I5         CRU97G  4294.18     Other   \n",
              "\n",
              "  operation_nature cost_center      taxes currency conversion_rate  \n",
              "0          OP7JDVK     CC5FYA2  444.13252      BRL        3.475606  \n",
              "1          OPXSY64     CCLH4R9  471.09236      EUR        3.523287  \n",
              "2          OPTDE9B     CCDG8CJ  326.49988      JPY        3.523287  \n",
              "3          OP62LG1     CC98G2K  471.09236      JPY        3.523287  \n",
              "4          OP62LG1     CCZD80Y  154.26398      EUR        3.523287  "
            ],
            "text/html": [
              "\n",
              "  <div id=\"df-2ed75fd0-1f6e-4fb4-bb3a-abb2e60b1333\" class=\"colab-df-container\">\n",
              "    <div>\n",
              "<style scoped>\n",
              "    .dataframe tbody tr th:only-of-type {\n",
              "        vertical-align: middle;\n",
              "    }\n",
              "\n",
              "    .dataframe tbody tr th {\n",
              "        vertical-align: top;\n",
              "    }\n",
              "\n",
              "    .dataframe thead th {\n",
              "        text-align: right;\n",
              "    }\n",
              "</style>\n",
              "<table border=\"1\" class=\"dataframe\">\n",
              "  <thead>\n",
              "    <tr style=\"text-align: right;\">\n",
              "      <th></th>\n",
              "      <th>id</th>\n",
              "      <th>release_date</th>\n",
              "      <th>debit_account</th>\n",
              "      <th>credit_account</th>\n",
              "      <th>amount</th>\n",
              "      <th>document</th>\n",
              "      <th>operation_nature</th>\n",
              "      <th>cost_center</th>\n",
              "      <th>taxes</th>\n",
              "      <th>currency</th>\n",
              "      <th>conversion_rate</th>\n",
              "    </tr>\n",
              "  </thead>\n",
              "  <tbody>\n",
              "    <tr>\n",
              "      <th>0</th>\n",
              "      <td>1</td>\n",
              "      <td>2022-02-27</td>\n",
              "      <td>DWAVRL</td>\n",
              "      <td>CIOVQ6</td>\n",
              "      <td>5533.25</td>\n",
              "      <td>DOCPAXGQ</td>\n",
              "      <td>OP7JDVK</td>\n",
              "      <td>CC5FYA2</td>\n",
              "      <td>444.13252</td>\n",
              "      <td>BRL</td>\n",
              "      <td>3.475606</td>\n",
              "    </tr>\n",
              "    <tr>\n",
              "      <th>1</th>\n",
              "      <td>2</td>\n",
              "      <td>2022-05-11</td>\n",
              "      <td>D8TF53</td>\n",
              "      <td>CV9Y0V</td>\n",
              "      <td>7180.37</td>\n",
              "      <td>DOCBXZXG</td>\n",
              "      <td>OPXSY64</td>\n",
              "      <td>CCLH4R9</td>\n",
              "      <td>471.09236</td>\n",
              "      <td>EUR</td>\n",
              "      <td>3.523287</td>\n",
              "    </tr>\n",
              "    <tr>\n",
              "      <th>2</th>\n",
              "      <td>3</td>\n",
              "      <td>2020-03-23</td>\n",
              "      <td>D0TZCE</td>\n",
              "      <td>CELQSH</td>\n",
              "      <td>6067.36</td>\n",
              "      <td>DOCF5ITC</td>\n",
              "      <td>OPTDE9B</td>\n",
              "      <td>CCDG8CJ</td>\n",
              "      <td>326.49988</td>\n",
              "      <td>JPY</td>\n",
              "      <td>3.523287</td>\n",
              "    </tr>\n",
              "    <tr>\n",
              "      <th>3</th>\n",
              "      <td>4</td>\n",
              "      <td>2021-06-14</td>\n",
              "      <td>DOGLK7</td>\n",
              "      <td>CDFEMS</td>\n",
              "      <td>5494.34</td>\n",
              "      <td>DOCZRS1U</td>\n",
              "      <td>OP62LG1</td>\n",
              "      <td>CC98G2K</td>\n",
              "      <td>471.09236</td>\n",
              "      <td>JPY</td>\n",
              "      <td>3.523287</td>\n",
              "    </tr>\n",
              "    <tr>\n",
              "      <th>4</th>\n",
              "      <td>5</td>\n",
              "      <td>2022-11-13</td>\n",
              "      <td>DHL0I5</td>\n",
              "      <td>CRU97G</td>\n",
              "      <td>4294.18</td>\n",
              "      <td>Other</td>\n",
              "      <td>OP62LG1</td>\n",
              "      <td>CCZD80Y</td>\n",
              "      <td>154.26398</td>\n",
              "      <td>EUR</td>\n",
              "      <td>3.523287</td>\n",
              "    </tr>\n",
              "  </tbody>\n",
              "</table>\n",
              "</div>\n",
              "    <div class=\"colab-df-buttons\">\n",
              "\n",
              "  <div class=\"colab-df-container\">\n",
              "    <button class=\"colab-df-convert\" onclick=\"convertToInteractive('df-2ed75fd0-1f6e-4fb4-bb3a-abb2e60b1333')\"\n",
              "            title=\"Convert this dataframe to an interactive table.\"\n",
              "            style=\"display:none;\">\n",
              "\n",
              "  <svg xmlns=\"http://www.w3.org/2000/svg\" height=\"24px\" viewBox=\"0 -960 960 960\">\n",
              "    <path d=\"M120-120v-720h720v720H120Zm60-500h600v-160H180v160Zm220 220h160v-160H400v160Zm0 220h160v-160H400v160ZM180-400h160v-160H180v160Zm440 0h160v-160H620v160ZM180-180h160v-160H180v160Zm440 0h160v-160H620v160Z\"/>\n",
              "  </svg>\n",
              "    </button>\n",
              "\n",
              "  <style>\n",
              "    .colab-df-container {\n",
              "      display:flex;\n",
              "      gap: 12px;\n",
              "    }\n",
              "\n",
              "    .colab-df-convert {\n",
              "      background-color: #E8F0FE;\n",
              "      border: none;\n",
              "      border-radius: 50%;\n",
              "      cursor: pointer;\n",
              "      display: none;\n",
              "      fill: #1967D2;\n",
              "      height: 32px;\n",
              "      padding: 0 0 0 0;\n",
              "      width: 32px;\n",
              "    }\n",
              "\n",
              "    .colab-df-convert:hover {\n",
              "      background-color: #E2EBFA;\n",
              "      box-shadow: 0px 1px 2px rgba(60, 64, 67, 0.3), 0px 1px 3px 1px rgba(60, 64, 67, 0.15);\n",
              "      fill: #174EA6;\n",
              "    }\n",
              "\n",
              "    .colab-df-buttons div {\n",
              "      margin-bottom: 4px;\n",
              "    }\n",
              "\n",
              "    [theme=dark] .colab-df-convert {\n",
              "      background-color: #3B4455;\n",
              "      fill: #D2E3FC;\n",
              "    }\n",
              "\n",
              "    [theme=dark] .colab-df-convert:hover {\n",
              "      background-color: #434B5C;\n",
              "      box-shadow: 0px 1px 3px 1px rgba(0, 0, 0, 0.15);\n",
              "      filter: drop-shadow(0px 1px 2px rgba(0, 0, 0, 0.3));\n",
              "      fill: #FFFFFF;\n",
              "    }\n",
              "  </style>\n",
              "\n",
              "    <script>\n",
              "      const buttonEl =\n",
              "        document.querySelector('#df-2ed75fd0-1f6e-4fb4-bb3a-abb2e60b1333 button.colab-df-convert');\n",
              "      buttonEl.style.display =\n",
              "        google.colab.kernel.accessAllowed ? 'block' : 'none';\n",
              "\n",
              "      async function convertToInteractive(key) {\n",
              "        const element = document.querySelector('#df-2ed75fd0-1f6e-4fb4-bb3a-abb2e60b1333');\n",
              "        const dataTable =\n",
              "          await google.colab.kernel.invokeFunction('convertToInteractive',\n",
              "                                                    [key], {});\n",
              "        if (!dataTable) return;\n",
              "\n",
              "        const docLinkHtml = 'Like what you see? Visit the ' +\n",
              "          '<a target=\"_blank\" href=https://colab.research.google.com/notebooks/data_table.ipynb>data table notebook</a>'\n",
              "          + ' to learn more about interactive tables.';\n",
              "        element.innerHTML = '';\n",
              "        dataTable['output_type'] = 'display_data';\n",
              "        await google.colab.output.renderOutput(dataTable, element);\n",
              "        const docLink = document.createElement('div');\n",
              "        docLink.innerHTML = docLinkHtml;\n",
              "        element.appendChild(docLink);\n",
              "      }\n",
              "    </script>\n",
              "  </div>\n",
              "\n",
              "\n",
              "<div id=\"df-2098d96f-fd2f-43db-8c72-60da5770441b\">\n",
              "  <button class=\"colab-df-quickchart\" onclick=\"quickchart('df-2098d96f-fd2f-43db-8c72-60da5770441b')\"\n",
              "            title=\"Suggest charts\"\n",
              "            style=\"display:none;\">\n",
              "\n",
              "<svg xmlns=\"http://www.w3.org/2000/svg\" height=\"24px\"viewBox=\"0 0 24 24\"\n",
              "     width=\"24px\">\n",
              "    <g>\n",
              "        <path d=\"M19 3H5c-1.1 0-2 .9-2 2v14c0 1.1.9 2 2 2h14c1.1 0 2-.9 2-2V5c0-1.1-.9-2-2-2zM9 17H7v-7h2v7zm4 0h-2V7h2v10zm4 0h-2v-4h2v4z\"/>\n",
              "    </g>\n",
              "</svg>\n",
              "  </button>\n",
              "\n",
              "<style>\n",
              "  .colab-df-quickchart {\n",
              "      --bg-color: #E8F0FE;\n",
              "      --fill-color: #1967D2;\n",
              "      --hover-bg-color: #E2EBFA;\n",
              "      --hover-fill-color: #174EA6;\n",
              "      --disabled-fill-color: #AAA;\n",
              "      --disabled-bg-color: #DDD;\n",
              "  }\n",
              "\n",
              "  [theme=dark] .colab-df-quickchart {\n",
              "      --bg-color: #3B4455;\n",
              "      --fill-color: #D2E3FC;\n",
              "      --hover-bg-color: #434B5C;\n",
              "      --hover-fill-color: #FFFFFF;\n",
              "      --disabled-bg-color: #3B4455;\n",
              "      --disabled-fill-color: #666;\n",
              "  }\n",
              "\n",
              "  .colab-df-quickchart {\n",
              "    background-color: var(--bg-color);\n",
              "    border: none;\n",
              "    border-radius: 50%;\n",
              "    cursor: pointer;\n",
              "    display: none;\n",
              "    fill: var(--fill-color);\n",
              "    height: 32px;\n",
              "    padding: 0;\n",
              "    width: 32px;\n",
              "  }\n",
              "\n",
              "  .colab-df-quickchart:hover {\n",
              "    background-color: var(--hover-bg-color);\n",
              "    box-shadow: 0 1px 2px rgba(60, 64, 67, 0.3), 0 1px 3px 1px rgba(60, 64, 67, 0.15);\n",
              "    fill: var(--button-hover-fill-color);\n",
              "  }\n",
              "\n",
              "  .colab-df-quickchart-complete:disabled,\n",
              "  .colab-df-quickchart-complete:disabled:hover {\n",
              "    background-color: var(--disabled-bg-color);\n",
              "    fill: var(--disabled-fill-color);\n",
              "    box-shadow: none;\n",
              "  }\n",
              "\n",
              "  .colab-df-spinner {\n",
              "    border: 2px solid var(--fill-color);\n",
              "    border-color: transparent;\n",
              "    border-bottom-color: var(--fill-color);\n",
              "    animation:\n",
              "      spin 1s steps(1) infinite;\n",
              "  }\n",
              "\n",
              "  @keyframes spin {\n",
              "    0% {\n",
              "      border-color: transparent;\n",
              "      border-bottom-color: var(--fill-color);\n",
              "      border-left-color: var(--fill-color);\n",
              "    }\n",
              "    20% {\n",
              "      border-color: transparent;\n",
              "      border-left-color: var(--fill-color);\n",
              "      border-top-color: var(--fill-color);\n",
              "    }\n",
              "    30% {\n",
              "      border-color: transparent;\n",
              "      border-left-color: var(--fill-color);\n",
              "      border-top-color: var(--fill-color);\n",
              "      border-right-color: var(--fill-color);\n",
              "    }\n",
              "    40% {\n",
              "      border-color: transparent;\n",
              "      border-right-color: var(--fill-color);\n",
              "      border-top-color: var(--fill-color);\n",
              "    }\n",
              "    60% {\n",
              "      border-color: transparent;\n",
              "      border-right-color: var(--fill-color);\n",
              "    }\n",
              "    80% {\n",
              "      border-color: transparent;\n",
              "      border-right-color: var(--fill-color);\n",
              "      border-bottom-color: var(--fill-color);\n",
              "    }\n",
              "    90% {\n",
              "      border-color: transparent;\n",
              "      border-bottom-color: var(--fill-color);\n",
              "    }\n",
              "  }\n",
              "</style>\n",
              "\n",
              "  <script>\n",
              "    async function quickchart(key) {\n",
              "      const quickchartButtonEl =\n",
              "        document.querySelector('#' + key + ' button');\n",
              "      quickchartButtonEl.disabled = true;  // To prevent multiple clicks.\n",
              "      quickchartButtonEl.classList.add('colab-df-spinner');\n",
              "      try {\n",
              "        const charts = await google.colab.kernel.invokeFunction(\n",
              "            'suggestCharts', [key], {});\n",
              "      } catch (error) {\n",
              "        console.error('Error during call to suggestCharts:', error);\n",
              "      }\n",
              "      quickchartButtonEl.classList.remove('colab-df-spinner');\n",
              "      quickchartButtonEl.classList.add('colab-df-quickchart-complete');\n",
              "    }\n",
              "    (() => {\n",
              "      let quickchartButtonEl =\n",
              "        document.querySelector('#df-2098d96f-fd2f-43db-8c72-60da5770441b button');\n",
              "      quickchartButtonEl.style.display =\n",
              "        google.colab.kernel.accessAllowed ? 'block' : 'none';\n",
              "    })();\n",
              "  </script>\n",
              "</div>\n",
              "\n",
              "    </div>\n",
              "  </div>\n"
            ],
            "application/vnd.google.colaboratory.intrinsic+json": {
              "type": "dataframe",
              "variable_name": "df_filtered_2",
              "summary": "{\n  \"name\": \"df_filtered_2\",\n  \"rows\": 1097,\n  \"fields\": [\n    {\n      \"column\": \"id\",\n      \"properties\": {\n        \"dtype\": \"number\",\n        \"std\": 349,\n        \"min\": 1,\n        \"max\": 1200,\n        \"num_unique_values\": 1097,\n        \"samples\": [\n          49,\n          612,\n          61\n        ],\n        \"semantic_type\": \"\",\n        \"description\": \"\"\n      }\n    },\n    {\n      \"column\": \"release_date\",\n      \"properties\": {\n        \"dtype\": \"date\",\n        \"min\": \"2020-01-01 00:00:00\",\n        \"max\": \"2023-12-12 00:00:00\",\n        \"num_unique_values\": 759,\n        \"samples\": [\n          \"2020-03-13 00:00:00\",\n          \"2021-12-06 00:00:00\",\n          \"2023-01-12 00:00:00\"\n        ],\n        \"semantic_type\": \"\",\n        \"description\": \"\"\n      }\n    },\n    {\n      \"column\": \"debit_account\",\n      \"properties\": {\n        \"dtype\": \"string\",\n        \"num_unique_values\": 1097,\n        \"samples\": [\n          \"DUMUUK\",\n          \"D4MJOC\",\n          \"D6L8G2\"\n        ],\n        \"semantic_type\": \"\",\n        \"description\": \"\"\n      }\n    },\n    {\n      \"column\": \"credit_account\",\n      \"properties\": {\n        \"dtype\": \"string\",\n        \"num_unique_values\": 1093,\n        \"samples\": [\n          \"CAFTQ0\",\n          \"C1KMNL\",\n          \"CLVCBP\"\n        ],\n        \"semantic_type\": \"\",\n        \"description\": \"\"\n      }\n    },\n    {\n      \"column\": \"amount\",\n      \"properties\": {\n        \"dtype\": \"number\",\n        \"std\": 2890.0511012795287,\n        \"min\": 105.41,\n        \"max\": 12746.534970433782,\n        \"num_unique_values\": 1097,\n        \"samples\": [\n          3222.74,\n          3441.03,\n          1673.8\n        ],\n        \"semantic_type\": \"\",\n        \"description\": \"\"\n      }\n    },\n    {\n      \"column\": \"document\",\n      \"properties\": {\n        \"dtype\": \"string\",\n        \"num_unique_values\": 986,\n        \"samples\": [\n          \"DOCE1XNW\",\n          \"DOCJ52JQ\",\n          \"DOC8E6IE\"\n        ],\n        \"semantic_type\": \"\",\n        \"description\": \"\"\n      }\n    },\n    {\n      \"column\": \"operation_nature\",\n      \"properties\": {\n        \"dtype\": \"string\",\n        \"num_unique_values\": 996,\n        \"samples\": [\n          \"OPM4LR9\",\n          \"OPRES0B\",\n          \"OPAHKL7\"\n        ],\n        \"semantic_type\": \"\",\n        \"description\": \"\"\n      }\n    },\n    {\n      \"column\": \"cost_center\",\n      \"properties\": {\n        \"dtype\": \"string\",\n        \"num_unique_values\": 1097,\n        \"samples\": [\n          \"CCMFGUQ\",\n          \"CC79QNF\",\n          \"CCMCGUI\"\n        ],\n        \"semantic_type\": \"\",\n        \"description\": \"\"\n      }\n    },\n    {\n      \"column\": \"taxes\",\n      \"properties\": {\n        \"dtype\": \"number\",\n        \"std\": 107.9812666793769,\n        \"min\": 154.26397977720023,\n        \"max\": 471.092359509024,\n        \"num_unique_values\": 5,\n        \"samples\": [\n          471.092359509024,\n          430.1553391717098,\n          326.4998804726215\n        ],\n        \"semantic_type\": \"\",\n        \"description\": \"\"\n      }\n    },\n    {\n      \"column\": \"currency\",\n      \"properties\": {\n        \"dtype\": \"category\",\n        \"num_unique_values\": 4,\n        \"samples\": [\n          \"EUR\",\n          \"USD\",\n          \"BRL\"\n        ],\n        \"semantic_type\": \"\",\n        \"description\": \"\"\n      }\n    },\n    {\n      \"column\": \"conversion_rate\",\n      \"properties\": {\n        \"dtype\": \"category\",\n        \"num_unique_values\": 6,\n        \"samples\": [\n          3.475605626193917,\n          3.523286759155978,\n          1.2480290666241416\n        ],\n        \"semantic_type\": \"\",\n        \"description\": \"\"\n      }\n    }\n  ]\n}"
            }
          },
          "metadata": {},
          "execution_count": 54
        }
      ],
      "source": [
        "# 54. Display the first few rows of the filtered dataset\n",
        "df_filtered_2.head()"
      ]
    },
    {
      "cell_type": "code",
      "execution_count": 55,
      "metadata": {
        "id": "ki16eEv_GIyW",
        "outputId": "d0b37a0a-eece-41c8-a2a2-a4f5ef25987a",
        "colab": {
          "base_uri": "https://localhost:8080/"
        }
      },
      "outputs": [
        {
          "output_type": "stream",
          "name": "stdout",
          "text": [
            "<class 'pandas.core.frame.DataFrame'>\n",
            "Index: 1097 entries, 0 to 1199\n",
            "Data columns (total 11 columns):\n",
            " #   Column            Non-Null Count  Dtype         \n",
            "---  ------            --------------  -----         \n",
            " 0   id                1097 non-null   int64         \n",
            " 1   release_date      1097 non-null   datetime64[ns]\n",
            " 2   debit_account     1097 non-null   object        \n",
            " 3   credit_account    1097 non-null   object        \n",
            " 4   amount            1097 non-null   float64       \n",
            " 5   document          1097 non-null   object        \n",
            " 6   operation_nature  1097 non-null   object        \n",
            " 7   cost_center       1097 non-null   object        \n",
            " 8   taxes             1097 non-null   float64       \n",
            " 9   currency          1097 non-null   object        \n",
            " 10  conversion_rate   1097 non-null   object        \n",
            "dtypes: datetime64[ns](1), float64(2), int64(1), object(7)\n",
            "memory usage: 102.8+ KB\n"
          ]
        }
      ],
      "source": [
        "# 55. Display information about the filtered dataset\n",
        "df_filtered_2.info()"
      ]
    },
    {
      "cell_type": "code",
      "source": [],
      "metadata": {
        "id": "sIB4FjczgsPf"
      },
      "execution_count": null,
      "outputs": []
    },
    {
      "cell_type": "code",
      "execution_count": 65,
      "metadata": {
        "id": "BrnUfM9EGIyW",
        "colab": {
          "base_uri": "https://localhost:8080/",
          "height": 550
        },
        "outputId": "ce7e7053-d606-429c-81f4-ab19b57cffcf"
      },
      "outputs": [
        {
          "output_type": "display_data",
          "data": {
            "text/plain": [
              "<Figure size 800x600 with 2 Axes>"
            ],
            "image/png": "[encoded data removed]"
          },
          "metadata": {}
        }
      ],
      "source": [
        "# 56. Converting 'release_date' to datetime\n",
        "df_filtered_2['release_date'] = pd.to_datetime(df_filtered_2['release_date'])\n",
        "\n",
        "# 57. Creating a new column representing the number of days since the earliest date\n",
        "min_date = df_filtered_2['release_date'].min()\n",
        "df_filtered_2['days_since_release'] = (df_filtered_2['release_date'] - min_date).dt.days\n",
        "\n",
        "# 59. Calculating the correlation between 'amount' and 'days_since_release'\n",
        "correlation_matrix = df_filtered_2[['amount', 'days_since_release']].corr()\n",
        "\n",
        "# 60. Creating the heatmap\n",
        "plt.figure(figsize=(8, 6))\n",
        "sns.heatmap(correlation_matrix, annot=True, cmap='coolwarm', fmt=\".2f\")\n",
        "plt.title(\"Correlation Heatmap\")\n",
        "plt.show()\n"
      ]
    },
    {
      "cell_type": "code",
      "execution_count": 57,
      "metadata": {
        "id": "UHOWeMDoGIyW",
        "outputId": "772c9bb4-53b0-4d4e-c3d9-6ff06bfb63b0",
        "colab": {
          "base_uri": "https://localhost:8080/",
          "height": 258
        }
      },
      "outputs": [
        {
          "output_type": "execute_result",
          "data": {
            "text/plain": [
              "   id release_date debit_account credit_account   amount  document  \\\n",
              "0   1   2022-02-27        DWAVRL         CIOVQ6  5533.25  DOCPAXGQ   \n",
              "1   2   2022-05-11        D8TF53         CV9Y0V  7180.37  DOCBXZXG   \n",
              "2   3   2020-03-23        D0TZCE         CELQSH  6067.36  DOCF5ITC   \n",
              "3   4   2021-06-14        DOGLK7         CDFEMS  5494.34  DOCZRS1U   \n",
              "4   5   2022-11-13        DHL0I5         CRU97G  4294.18     Other   \n",
              "\n",
              "  operation_nature cost_center      taxes currency conversion_rate  \\\n",
              "0          OP7JDVK     CC5FYA2  444.13252      BRL        3.475606   \n",
              "1          OPXSY64     CCLH4R9  471.09236      EUR        3.523287   \n",
              "2          OPTDE9B     CCDG8CJ  326.49988      JPY        3.523287   \n",
              "3          OP62LG1     CC98G2K  471.09236      JPY        3.523287   \n",
              "4          OP62LG1     CCZD80Y  154.26398      EUR        3.523287   \n",
              "\n",
              "   days_since_release  \n",
              "0                 788  \n",
              "1                 861  \n",
              "2                  82  \n",
              "3                 530  \n",
              "4                1047  "
            ],
            "text/html": [
              "\n",
              "  <div id=\"df-3b7058ff-1132-456f-bed6-d669fb01617d\" class=\"colab-df-container\">\n",
              "    <div>\n",
              "<style scoped>\n",
              "    .dataframe tbody tr th:only-of-type {\n",
              "        vertical-align: middle;\n",
              "    }\n",
              "\n",
              "    .dataframe tbody tr th {\n",
              "        vertical-align: top;\n",
              "    }\n",
              "\n",
              "    .dataframe thead th {\n",
              "        text-align: right;\n",
              "    }\n",
              "</style>\n",
              "<table border=\"1\" class=\"dataframe\">\n",
              "  <thead>\n",
              "    <tr style=\"text-align: right;\">\n",
              "      <th></th>\n",
              "      <th>id</th>\n",
              "      <th>release_date</th>\n",
              "      <th>debit_account</th>\n",
              "      <th>credit_account</th>\n",
              "      <th>amount</th>\n",
              "      <th>document</th>\n",
              "      <th>operation_nature</th>\n",
              "      <th>cost_center</th>\n",
              "      <th>taxes</th>\n",
              "      <th>currency</th>\n",
              "      <th>conversion_rate</th>\n",
              "      <th>days_since_release</th>\n",
              "    </tr>\n",
              "  </thead>\n",
              "  <tbody>\n",
              "    <tr>\n",
              "      <th>0</th>\n",
              "      <td>1</td>\n",
              "      <td>2022-02-27</td>\n",
              "      <td>DWAVRL</td>\n",
              "      <td>CIOVQ6</td>\n",
              "      <td>5533.25</td>\n",
              "      <td>DOCPAXGQ</td>\n",
              "      <td>OP7JDVK</td>\n",
              "      <td>CC5FYA2</td>\n",
              "      <td>444.13252</td>\n",
              "      <td>BRL</td>\n",
              "      <td>3.475606</td>\n",
              "      <td>788</td>\n",
              "    </tr>\n",
              "    <tr>\n",
              "      <th>1</th>\n",
              "      <td>2</td>\n",
              "      <td>2022-05-11</td>\n",
              "      <td>D8TF53</td>\n",
              "      <td>CV9Y0V</td>\n",
              "      <td>7180.37</td>\n",
              "      <td>DOCBXZXG</td>\n",
              "      <td>OPXSY64</td>\n",
              "      <td>CCLH4R9</td>\n",
              "      <td>471.09236</td>\n",
              "      <td>EUR</td>\n",
              "      <td>3.523287</td>\n",
              "      <td>861</td>\n",
              "    </tr>\n",
              "    <tr>\n",
              "      <th>2</th>\n",
              "      <td>3</td>\n",
              "      <td>2020-03-23</td>\n",
              "      <td>D0TZCE</td>\n",
              "      <td>CELQSH</td>\n",
              "      <td>6067.36</td>\n",
              "      <td>DOCF5ITC</td>\n",
              "      <td>OPTDE9B</td>\n",
              "      <td>CCDG8CJ</td>\n",
              "      <td>326.49988</td>\n",
              "      <td>JPY</td>\n",
              "      <td>3.523287</td>\n",
              "      <td>82</td>\n",
              "    </tr>\n",
              "    <tr>\n",
              "      <th>3</th>\n",
              "      <td>4</td>\n",
              "      <td>2021-06-14</td>\n",
              "      <td>DOGLK7</td>\n",
              "      <td>CDFEMS</td>\n",
              "      <td>5494.34</td>\n",
              "      <td>DOCZRS1U</td>\n",
              "      <td>OP62LG1</td>\n",
              "      <td>CC98G2K</td>\n",
              "      <td>471.09236</td>\n",
              "      <td>JPY</td>\n",
              "      <td>3.523287</td>\n",
              "      <td>530</td>\n",
              "    </tr>\n",
              "    <tr>\n",
              "      <th>4</th>\n",
              "      <td>5</td>\n",
              "      <td>2022-11-13</td>\n",
              "      <td>DHL0I5</td>\n",
              "      <td>CRU97G</td>\n",
              "      <td>4294.18</td>\n",
              "      <td>Other</td>\n",
              "      <td>OP62LG1</td>\n",
              "      <td>CCZD80Y</td>\n",
              "      <td>154.26398</td>\n",
              "      <td>EUR</td>\n",
              "      <td>3.523287</td>\n",
              "      <td>1047</td>\n",
              "    </tr>\n",
              "  </tbody>\n",
              "</table>\n",
              "</div>\n",
              "    <div class=\"colab-df-buttons\">\n",
              "\n",
              "  <div class=\"colab-df-container\">\n",
              "    <button class=\"colab-df-convert\" onclick=\"convertToInteractive('df-3b7058ff-1132-456f-bed6-d669fb01617d')\"\n",
              "            title=\"Convert this dataframe to an interactive table.\"\n",
              "            style=\"display:none;\">\n",
              "\n",
              "  <svg xmlns=\"http://www.w3.org/2000/svg\" height=\"24px\" viewBox=\"0 -960 960 960\">\n",
              "    <path d=\"M120-120v-720h720v720H120Zm60-500h600v-160H180v160Zm220 220h160v-160H400v160Zm0 220h160v-160H400v160ZM180-400h160v-160H180v160Zm440 0h160v-160H620v160ZM180-180h160v-160H180v160Zm440 0h160v-160H620v160Z\"/>\n",
              "  </svg>\n",
              "    </button>\n",
              "\n",
              "  <style>\n",
              "    .colab-df-container {\n",
              "      display:flex;\n",
              "      gap: 12px;\n",
              "    }\n",
              "\n",
              "    .colab-df-convert {\n",
              "      background-color: #E8F0FE;\n",
              "      border: none;\n",
              "      border-radius: 50%;\n",
              "      cursor: pointer;\n",
              "      display: none;\n",
              "      fill: #1967D2;\n",
              "      height: 32px;\n",
              "      padding: 0 0 0 0;\n",
              "      width: 32px;\n",
              "    }\n",
              "\n",
              "    .colab-df-convert:hover {\n",
              "      background-color: #E2EBFA;\n",
              "      box-shadow: 0px 1px 2px rgba(60, 64, 67, 0.3), 0px 1px 3px 1px rgba(60, 64, 67, 0.15);\n",
              "      fill: #174EA6;\n",
              "    }\n",
              "\n",
              "    .colab-df-buttons div {\n",
              "      margin-bottom: 4px;\n",
              "    }\n",
              "\n",
              "    [theme=dark] .colab-df-convert {\n",
              "      background-color: #3B4455;\n",
              "      fill: #D2E3FC;\n",
              "    }\n",
              "\n",
              "    [theme=dark] .colab-df-convert:hover {\n",
              "      background-color: #434B5C;\n",
              "      box-shadow: 0px 1px 3px 1px rgba(0, 0, 0, 0.15);\n",
              "      filter: drop-shadow(0px 1px 2px rgba(0, 0, 0, 0.3));\n",
              "      fill: #FFFFFF;\n",
              "    }\n",
              "  </style>\n",
              "\n",
              "    <script>\n",
              "      const buttonEl =\n",
              "        document.querySelector('#df-3b7058ff-1132-456f-bed6-d669fb01617d button.colab-df-convert');\n",
              "      buttonEl.style.display =\n",
              "        google.colab.kernel.accessAllowed ? 'block' : 'none';\n",
              "\n",
              "      async function convertToInteractive(key) {\n",
              "        const element = document.querySelector('#df-3b7058ff-1132-456f-bed6-d669fb01617d');\n",
              "        const dataTable =\n",
              "          await google.colab.kernel.invokeFunction('convertToInteractive',\n",
              "                                                    [key], {});\n",
              "        if (!dataTable) return;\n",
              "\n",
              "        const docLinkHtml = 'Like what you see? Visit the ' +\n",
              "          '<a target=\"_blank\" href=https://colab.research.google.com/notebooks/data_table.ipynb>data table notebook</a>'\n",
              "          + ' to learn more about interactive tables.';\n",
              "        element.innerHTML = '';\n",
              "        dataTable['output_type'] = 'display_data';\n",
              "        await google.colab.output.renderOutput(dataTable, element);\n",
              "        const docLink = document.createElement('div');\n",
              "        docLink.innerHTML = docLinkHtml;\n",
              "        element.appendChild(docLink);\n",
              "      }\n",
              "    </script>\n",
              "  </div>\n",
              "\n",
              "\n",
              "<div id=\"df-1c45659b-6ed8-4b6a-9b67-ebb8ff2f5a85\">\n",
              "  <button class=\"colab-df-quickchart\" onclick=\"quickchart('df-1c45659b-6ed8-4b6a-9b67-ebb8ff2f5a85')\"\n",
              "            title=\"Suggest charts\"\n",
              "            style=\"display:none;\">\n",
              "\n",
              "<svg xmlns=\"http://www.w3.org/2000/svg\" height=\"24px\"viewBox=\"0 0 24 24\"\n",
              "     width=\"24px\">\n",
              "    <g>\n",
              "        <path d=\"M19 3H5c-1.1 0-2 .9-2 2v14c0 1.1.9 2 2 2h14c1.1 0 2-.9 2-2V5c0-1.1-.9-2-2-2zM9 17H7v-7h2v7zm4 0h-2V7h2v10zm4 0h-2v-4h2v4z\"/>\n",
              "    </g>\n",
              "</svg>\n",
              "  </button>\n",
              "\n",
              "<style>\n",
              "  .colab-df-quickchart {\n",
              "      --bg-color: #E8F0FE;\n",
              "      --fill-color: #1967D2;\n",
              "      --hover-bg-color: #E2EBFA;\n",
              "      --hover-fill-color: #174EA6;\n",
              "      --disabled-fill-color: #AAA;\n",
              "      --disabled-bg-color: #DDD;\n",
              "  }\n",
              "\n",
              "  [theme=dark] .colab-df-quickchart {\n",
              "      --bg-color: #3B4455;\n",
              "      --fill-color: #D2E3FC;\n",
              "      --hover-bg-color: #434B5C;\n",
              "      --hover-fill-color: #FFFFFF;\n",
              "      --disabled-bg-color: #3B4455;\n",
              "      --disabled-fill-color: #666;\n",
              "  }\n",
              "\n",
              "  .colab-df-quickchart {\n",
              "    background-color: var(--bg-color);\n",
              "    border: none;\n",
              "    border-radius: 50%;\n",
              "    cursor: pointer;\n",
              "    display: none;\n",
              "    fill: var(--fill-color);\n",
              "    height: 32px;\n",
              "    padding: 0;\n",
              "    width: 32px;\n",
              "  }\n",
              "\n",
              "  .colab-df-quickchart:hover {\n",
              "    background-color: var(--hover-bg-color);\n",
              "    box-shadow: 0 1px 2px rgba(60, 64, 67, 0.3), 0 1px 3px 1px rgba(60, 64, 67, 0.15);\n",
              "    fill: var(--button-hover-fill-color);\n",
              "  }\n",
              "\n",
              "  .colab-df-quickchart-complete:disabled,\n",
              "  .colab-df-quickchart-complete:disabled:hover {\n",
              "    background-color: var(--disabled-bg-color);\n",
              "    fill: var(--disabled-fill-color);\n",
              "    box-shadow: none;\n",
              "  }\n",
              "\n",
              "  .colab-df-spinner {\n",
              "    border: 2px solid var(--fill-color);\n",
              "    border-color: transparent;\n",
              "    border-bottom-color: var(--fill-color);\n",
              "    animation:\n",
              "      spin 1s steps(1) infinite;\n",
              "  }\n",
              "\n",
              "  @keyframes spin {\n",
              "    0% {\n",
              "      border-color: transparent;\n",
              "      border-bottom-color: var(--fill-color);\n",
              "      border-left-color: var(--fill-color);\n",
              "    }\n",
              "    20% {\n",
              "      border-color: transparent;\n",
              "      border-left-color: var(--fill-color);\n",
              "      border-top-color: var(--fill-color);\n",
              "    }\n",
              "    30% {\n",
              "      border-color: transparent;\n",
              "      border-left-color: var(--fill-color);\n",
              "      border-top-color: var(--fill-color);\n",
              "      border-right-color: var(--fill-color);\n",
              "    }\n",
              "    40% {\n",
              "      border-color: transparent;\n",
              "      border-right-color: var(--fill-color);\n",
              "      border-top-color: var(--fill-color);\n",
              "    }\n",
              "    60% {\n",
              "      border-color: transparent;\n",
              "      border-right-color: var(--fill-color);\n",
              "    }\n",
              "    80% {\n",
              "      border-color: transparent;\n",
              "      border-right-color: var(--fill-color);\n",
              "      border-bottom-color: var(--fill-color);\n",
              "    }\n",
              "    90% {\n",
              "      border-color: transparent;\n",
              "      border-bottom-color: var(--fill-color);\n",
              "    }\n",
              "  }\n",
              "</style>\n",
              "\n",
              "  <script>\n",
              "    async function quickchart(key) {\n",
              "      const quickchartButtonEl =\n",
              "        document.querySelector('#' + key + ' button');\n",
              "      quickchartButtonEl.disabled = true;  // To prevent multiple clicks.\n",
              "      quickchartButtonEl.classList.add('colab-df-spinner');\n",
              "      try {\n",
              "        const charts = await google.colab.kernel.invokeFunction(\n",
              "            'suggestCharts', [key], {});\n",
              "      } catch (error) {\n",
              "        console.error('Error during call to suggestCharts:', error);\n",
              "      }\n",
              "      quickchartButtonEl.classList.remove('colab-df-spinner');\n",
              "      quickchartButtonEl.classList.add('colab-df-quickchart-complete');\n",
              "    }\n",
              "    (() => {\n",
              "      let quickchartButtonEl =\n",
              "        document.querySelector('#df-1c45659b-6ed8-4b6a-9b67-ebb8ff2f5a85 button');\n",
              "      quickchartButtonEl.style.display =\n",
              "        google.colab.kernel.accessAllowed ? 'block' : 'none';\n",
              "    })();\n",
              "  </script>\n",
              "</div>\n",
              "\n",
              "    </div>\n",
              "  </div>\n"
            ],
            "application/vnd.google.colaboratory.intrinsic+json": {
              "type": "dataframe",
              "variable_name": "df_filtered_2",
              "summary": "{\n  \"name\": \"df_filtered_2\",\n  \"rows\": 1097,\n  \"fields\": [\n    {\n      \"column\": \"id\",\n      \"properties\": {\n        \"dtype\": \"number\",\n        \"std\": 349,\n        \"min\": 1,\n        \"max\": 1200,\n        \"num_unique_values\": 1097,\n        \"samples\": [\n          49,\n          612,\n          61\n        ],\n        \"semantic_type\": \"\",\n        \"description\": \"\"\n      }\n    },\n    {\n      \"column\": \"release_date\",\n      \"properties\": {\n        \"dtype\": \"date\",\n        \"min\": \"2020-01-01 00:00:00\",\n        \"max\": \"2023-12-12 00:00:00\",\n        \"num_unique_values\": 759,\n        \"samples\": [\n          \"2020-03-13 00:00:00\",\n          \"2021-12-06 00:00:00\",\n          \"2023-01-12 00:00:00\"\n        ],\n        \"semantic_type\": \"\",\n        \"description\": \"\"\n      }\n    },\n    {\n      \"column\": \"debit_account\",\n      \"properties\": {\n        \"dtype\": \"string\",\n        \"num_unique_values\": 1097,\n        \"samples\": [\n          \"DUMUUK\",\n          \"D4MJOC\",\n          \"D6L8G2\"\n        ],\n        \"semantic_type\": \"\",\n        \"description\": \"\"\n      }\n    },\n    {\n      \"column\": \"credit_account\",\n      \"properties\": {\n        \"dtype\": \"string\",\n        \"num_unique_values\": 1093,\n        \"samples\": [\n          \"CAFTQ0\",\n          \"C1KMNL\",\n          \"CLVCBP\"\n        ],\n        \"semantic_type\": \"\",\n        \"description\": \"\"\n      }\n    },\n    {\n      \"column\": \"amount\",\n      \"properties\": {\n        \"dtype\": \"number\",\n        \"std\": 2890.0511012795287,\n        \"min\": 105.41,\n        \"max\": 12746.534970433782,\n        \"num_unique_values\": 1097,\n        \"samples\": [\n          3222.74,\n          3441.03,\n          1673.8\n        ],\n        \"semantic_type\": \"\",\n        \"description\": \"\"\n      }\n    },\n    {\n      \"column\": \"document\",\n      \"properties\": {\n        \"dtype\": \"string\",\n        \"num_unique_values\": 986,\n        \"samples\": [\n          \"DOCE1XNW\",\n          \"DOCJ52JQ\",\n          \"DOC8E6IE\"\n        ],\n        \"semantic_type\": \"\",\n        \"description\": \"\"\n      }\n    },\n    {\n      \"column\": \"operation_nature\",\n      \"properties\": {\n        \"dtype\": \"string\",\n        \"num_unique_values\": 996,\n        \"samples\": [\n          \"OPM4LR9\",\n          \"OPRES0B\",\n          \"OPAHKL7\"\n        ],\n        \"semantic_type\": \"\",\n        \"description\": \"\"\n      }\n    },\n    {\n      \"column\": \"cost_center\",\n      \"properties\": {\n        \"dtype\": \"string\",\n        \"num_unique_values\": 1097,\n        \"samples\": [\n          \"CCMFGUQ\",\n          \"CC79QNF\",\n          \"CCMCGUI\"\n        ],\n        \"semantic_type\": \"\",\n        \"description\": \"\"\n      }\n    },\n    {\n      \"column\": \"taxes\",\n      \"properties\": {\n        \"dtype\": \"number\",\n        \"std\": 107.9812666793769,\n        \"min\": 154.26397977720023,\n        \"max\": 471.092359509024,\n        \"num_unique_values\": 5,\n        \"samples\": [\n          471.092359509024,\n          430.1553391717098,\n          326.4998804726215\n        ],\n        \"semantic_type\": \"\",\n        \"description\": \"\"\n      }\n    },\n    {\n      \"column\": \"currency\",\n      \"properties\": {\n        \"dtype\": \"category\",\n        \"num_unique_values\": 4,\n        \"samples\": [\n          \"EUR\",\n          \"USD\",\n          \"BRL\"\n        ],\n        \"semantic_type\": \"\",\n        \"description\": \"\"\n      }\n    },\n    {\n      \"column\": \"conversion_rate\",\n      \"properties\": {\n        \"dtype\": \"category\",\n        \"num_unique_values\": 6,\n        \"samples\": [\n          3.475605626193917,\n          3.523286759155978,\n          1.2480290666241416\n        ],\n        \"semantic_type\": \"\",\n        \"description\": \"\"\n      }\n    },\n    {\n      \"column\": \"days_since_release\",\n      \"properties\": {\n        \"dtype\": \"number\",\n        \"std\": 421,\n        \"min\": 0,\n        \"max\": 1441,\n        \"num_unique_values\": 759,\n        \"samples\": [\n          72,\n          705,\n          1107\n        ],\n        \"semantic_type\": \"\",\n        \"description\": \"\"\n      }\n    }\n  ]\n}"
            }
          },
          "metadata": {},
          "execution_count": 57
        }
      ],
      "source": [
        "# 58. Display the first few rows of the filtered dataset\n",
        "df_filtered_2.head()"
      ]
    },
    {
      "cell_type": "code",
      "execution_count": 58,
      "metadata": {
        "id": "GXa8RhV4GIyW",
        "outputId": "40792a29-eefd-4556-d78b-236343e98ae6",
        "colab": {
          "base_uri": "https://localhost:8080/",
          "height": 550
        }
      },
      "outputs": [
        {
          "output_type": "display_data",
          "data": {
            "text/plain": [
              "<Figure size 800x600 with 2 Axes>"
            ],
            "image/png": "[encoded data removed]"
          },
          "metadata": {}
        }
      ],
      "source": [
        "# 59. Calculating the correlation between 'amount' and 'days_since_release'\n",
        "correlation_matrix = df_filtered_2[['amount', 'days_since_release']].corr()\n",
        "\n",
        "# 60. Creating the heatmap\n",
        "plt.figure(figsize=(8, 6))\n",
        "sns.heatmap(correlation_matrix, annot=True, cmap='coolwarm', fmt=\".2f\")\n",
        "plt.title(\"Correlation Heatmap\")\n",
        "plt.show()"
      ]
    },
    {
      "cell_type": "markdown",
      "metadata": {
        "id": "xNYAd0_3GIyW"
      },
      "source": [
        "**The Correlation Map (or Heatmap)** is a visual tool used to represent the strength and direction of the correlation between two or more variables. Here’s how to interpret it:\n",
        "\n",
        "**Values in the Matrix:**\n",
        "\n",
        "Each cell in the matrix shows the correlation coefficient between two variables. The correlation coefficient ranges from -1 to 1.\n",
        "\n",
        "- **1** indicates a perfect positive correlation (when one variable increases, the other also increases).\n",
        "- **-1** indicates a perfect negative correlation (when one variable increases, the other decreases).\n",
        "- **0** indicates no correlation (the variables have no linear relationship).\n",
        "\n",
        "**Colors:**\n",
        "\n",
        "The colors represent the strength of the correlation, usually following a gradient.\n",
        "\n",
        "**Interpretation:**\n",
        "\n",
        "- **Strong Positive Correlation (values close to 1):** When one variable increases, the other also tends to increase. For example, in sales data, there may be a strong positive correlation between advertising spending and revenue.\n",
        "- **Strong Negative Correlation (values close to -1):** When one variable increases, the other tends to decrease. For example, in health data, there may be a strong negative correlation between exercise quantity and body weight.\n",
        "- **Weak or No Correlation (values close to 0):** The variables have no clear linear relationship. One variable does not reliably predict the other.\n",
        "\n",
        "**Considerations:**\n",
        "\n",
        "Correlation does not imply causation. Even if two variables are strongly correlated, it does not mean one causes the other. Other factors may influence the variables. Therefore, more in-depth analyses, such as causality analysis, may be necessary to understand relationships between variables.\n",
        "\n",
        "When analyzing the correlation heatmap between 'amount' and 'days_since_release,' you observe how these two variables move together, which can help you better understand trends and patterns in your data."
      ]
    },
    {
      "cell_type": "markdown",
      "metadata": {
        "id": "a52duDt1GIyW"
      },
      "source": [
        "### **Analyzing and Interpreting Scatter Plots**"
      ]
    },
    {
      "cell_type": "code",
      "execution_count": 59,
      "metadata": {
        "id": "9vhKOfdSGIyW",
        "outputId": "751c15fa-fba6-4369-a130-0d46f1bb8712",
        "colab": {
          "base_uri": "https://localhost:8080/",
          "height": 573
        }
      },
      "outputs": [
        {
          "output_type": "display_data",
          "data": {
            "text/plain": [
              "<Figure size 1000x600 with 1 Axes>"
            ],
            "image/png": "[encoded data removed]"
          },
          "metadata": {}
        }
      ],
      "source": [
        "# 61. Creating the scatter plot between 'amount' and 'taxes'\n",
        "plt.figure(figsize=(10, 6))\n",
        "sns.scatterplot(x='amount', y='taxes', data=df_filtered_2)\n",
        "plt.title('Transaction Amount vs. Taxes')\n",
        "plt.xlabel('Amount')\n",
        "plt.ylabel('Taxes')\n",
        "plt.show()\n"
      ]
    },
    {
      "cell_type": "markdown",
      "metadata": {
        "id": "ZAwCoR7xGIyW"
      },
      "source": [
        "The scatter plot is an effective visual tool for exploring the relationship between two quantitative variables. Here are the key aspects to interpret a scatter plot:\n",
        "\n",
        "**Overall Pattern and Direction of Relationship:**\n",
        "\n",
        "- **Positive:** If the points tend to rise from left to right, this indicates a positive correlation; as one variable increases, the other also tends to increase.\n",
        "- **Negative:** If the points tend to fall from left to right, this indicates a negative correlation; as one variable increases, the other tends to decrease.\n",
        "- **No Trend:** If the points are randomly scattered without a clear direction, this suggests little or no linear correlation between the variables.\n",
        "\n",
        "**Strength of Relationship:**\n",
        "\n",
        "- **Strong:** Points close to an imaginary line indicate a strong linear relationship.\n",
        "- **Weak:** Points widely scattered around the line indicate a weaker linear relationship.\n",
        "- **Outliers:** Points that do not follow the general pattern may indicate outliers or anomalies, which may warrant further investigation.\n",
        "\n",
        "**Form of Relationship:**\n",
        "\n",
        "Relationships may be curvilinear or follow other patterns, beyond simple linearity.\n",
        "\n",
        "**Homoscedasticity vs. Heteroscedasticity:**\n",
        "\n",
        "- **Homoscedasticity:** The spread of points remains consistent along the axis.\n",
        "- **Heteroscedasticity:** The spread of points changes, which may indicate variability differences of one variable in relation to the other."
      ]
    },
    {
      "cell_type": "markdown",
      "metadata": {
        "id": "tKtecCKUGIyX"
      },
      "source": [
        "### **Exploratory Analysis of Numerical vs. Categorical Data**"
      ]
    },
    {
      "cell_type": "markdown",
      "metadata": {
        "id": "r4OtjpOcGIyX"
      },
      "source": [
        "To analyze the association between a categorical variable and a numerical variable in the dataset, we first need to select appropriate variables. A common approach is to compare a numerical variable (such as `amount`) with a categorical variable (such as `debit_account`, `credit_account`, `operation_nature`, `cost_center`, or `currency`).\n",
        "\n",
        "Let's choose a categorical variable for analysis. A common method for this is to use boxplots, which show the distribution of the numerical variable within each category of the categorical variable. This helps us understand if there are significant differences in values across different categories.\n",
        "\n",
        "We’ll select a categorical variable and create a boxplot to visualize the association. Let's analyze the association between `amount` and `currency`.\n",
        "\n",
        "The categorical variable `currency` has a balanced distribution, with four categories (BRL, USD, JPY, EUR) and a sufficient number of observations in each. This makes it suitable for analyzing its association with the numerical variable `amount`.\n",
        "\n",
        "We’ll create a boxplot to visualize the distribution of values for each currency. This type of plot will help us determine if there are significant differences in transaction amounts across different currencies."
      ]
    },
    {
      "cell_type": "code",
      "execution_count": 60,
      "metadata": {
        "id": "SjYMFaInGIyX",
        "outputId": "533d1a4c-2baa-40d4-cea4-711f0f6e811b",
        "colab": {
          "base_uri": "https://localhost:8080/"
        }
      },
      "outputs": [
        {
          "output_type": "stream",
          "name": "stdout",
          "text": [
            "<class 'pandas.core.frame.DataFrame'>\n",
            "Index: 1097 entries, 0 to 1199\n",
            "Data columns (total 12 columns):\n",
            " #   Column              Non-Null Count  Dtype         \n",
            "---  ------              --------------  -----         \n",
            " 0   id                  1097 non-null   int64         \n",
            " 1   release_date        1097 non-null   datetime64[ns]\n",
            " 2   debit_account       1097 non-null   object        \n",
            " 3   credit_account      1097 non-null   object        \n",
            " 4   amount              1097 non-null   float64       \n",
            " 5   document            1097 non-null   object        \n",
            " 6   operation_nature    1097 non-null   object        \n",
            " 7   cost_center         1097 non-null   object        \n",
            " 8   taxes               1097 non-null   float64       \n",
            " 9   currency            1097 non-null   object        \n",
            " 10  conversion_rate     1097 non-null   object        \n",
            " 11  days_since_release  1097 non-null   int64         \n",
            "dtypes: datetime64[ns](1), float64(2), int64(2), object(7)\n",
            "memory usage: 111.4+ KB\n"
          ]
        }
      ],
      "source": [
        "# 62. Display information about the filtered dataset\n",
        "df_filtered_2.info()"
      ]
    },
    {
      "cell_type": "code",
      "execution_count": 61,
      "metadata": {
        "id": "Vi6Q_Ej4GIyX",
        "outputId": "3516bd49-56d4-4839-df91-8059a5716240",
        "colab": {
          "base_uri": "https://localhost:8080/",
          "height": 573
        }
      },
      "outputs": [
        {
          "output_type": "display_data",
          "data": {
            "text/plain": [
              "<Figure size 1200x600 with 1 Axes>"
            ],
            "image/png": "[encoded data removed]"
          },
          "metadata": {}
        }
      ],
      "source": [
        "# 63. Creating a boxplot to analyze the association between 'amount' and 'currency'\n",
        "plt.figure(figsize=(12, 6))\n",
        "sns.boxplot(x='currency', y='amount', data=df_filtered_2)\n",
        "plt.title('Distribution of Amount by Currency')\n",
        "plt.xlabel('Currency')\n",
        "plt.ylabel('Amount')\n",
        "plt.show()"
      ]
    },
    {
      "cell_type": "code",
      "execution_count": 62,
      "metadata": {
        "id": "56IAQ3_yGIyX",
        "outputId": "70c77326-d0dc-409a-b498-bcc782c2b79f",
        "colab": {
          "base_uri": "https://localhost:8080/"
        }
      },
      "outputs": [
        {
          "output_type": "stream",
          "name": "stdout",
          "text": [
            "Author: panData\n",
            "\n"
          ]
        }
      ],
      "source": [
        "%watermark -a \"panData\""
      ]
    },
    {
      "cell_type": "code",
      "execution_count": 63,
      "metadata": {
        "id": "Lh9HpKmhGIyX",
        "colab": {
          "base_uri": "https://localhost:8080/"
        },
        "outputId": "32f4f3d4-dbb7-4017-f8f9-dede483469ff"
      },
      "outputs": [
        {
          "output_type": "stream",
          "name": "stdout",
          "text": [
            "Python implementation: CPython\n",
            "Python version       : 3.10.12\n",
            "IPython version      : 7.34.0\n",
            "\n",
            "Compiler    : GCC 11.4.0\n",
            "OS          : Linux\n",
            "Release     : 6.1.85+\n",
            "Machine     : x86_64\n",
            "Processor   : x86_64\n",
            "CPU cores   : 2\n",
            "Architecture: 64bit\n",
            "\n"
          ]
        }
      ],
      "source": [
        "%watermark -v -m"
      ]
    },
    {
      "cell_type": "code",
      "execution_count": 64,
      "metadata": {
        "id": "LblsCQBJGIyX",
        "colab": {
          "base_uri": "https://localhost:8080/"
        },
        "outputId": "10494766-9b1c-4879-b895-9e3d31c636ef"
      },
      "outputs": [
        {
          "output_type": "stream",
          "name": "stdout",
          "text": [
            "pandas    : 2.2.2\n",
            "matplotlib: 3.8.0\n",
            "numpy     : 1.26.4\n",
            "seaborn   : 0.13.2\n",
            "scipy     : 1.13.1\n",
            "\n"
          ]
        }
      ],
      "source": [
        "%watermark --iversions"
      ]
    },
    {
      "cell_type": "markdown",
      "metadata": {
        "id": "_6bxy1XOGIyX"
      },
      "source": [
        "# **The End**"
      ]
    }
  ],
  "metadata": {
    "kernelspec": {
      "display_name": "Python 3 (ipykernel)",
      "language": "python",
      "name": "python3"
    },
    "language_info": {
      "codemirror_mode": {
        "name": "ipython",
        "version": 3
      },
      "file_extension": ".py",
      "mimetype": "text/x-python",
      "name": "python",
      "nbconvert_exporter": "python",
      "pygments_lexer": "ipython3",
      "version": "3.11.5"
    },
    "colab": {
      "provenance": []
    }
  },
  "nbformat": 4,
  "nbformat_minor": 0
}